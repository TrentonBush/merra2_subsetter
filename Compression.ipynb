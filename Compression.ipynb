{
 "cells": [
  {
   "cell_type": "markdown",
   "metadata": {},
   "source": [
    "# Clickhouse Compression Comparison\n",
    "For this test, I tried several compression codecs and precision reduction methods on 4 MERRA-2 nodes with 9 variables and 4 years of data. For spatial-temporal data in particular, there may be better ways to store it and compress it than a tabular database - see zfp compression and zarr files. But I wanted to check out clickhouse.\n",
    "\n",
    "## Conclusions\n",
    "**The most important source of size reduction is eliminating false precision**. The next thing to do is to use the Gorilla XOR codec, unless the data is a simple counter, like a timestamp, in which case use DoubleDelta.\n",
    "\n",
    "This produced a dataset only 30% the size of the uncompressed data. Snappy compressed parquet was 37%, for comparison."
   ]
  },
  {
   "cell_type": "code",
   "execution_count": 1,
   "metadata": {},
   "outputs": [],
   "source": [
    "import pandas as pd\n",
    "from pathlib import Path\n",
    "import numpy as np\n",
    "import altair as alt"
   ]
  },
  {
   "cell_type": "code",
   "execution_count": 58,
   "metadata": {},
   "outputs": [],
   "source": [
    "df = pd.read_csv('./clickhouse_compression_test.tsv', sep='\\t')"
   ]
  },
  {
   "cell_type": "code",
   "execution_count": 59,
   "metadata": {},
   "outputs": [],
   "source": [
    "df[['precision', 'codec_']] = df['table'].str.split('_', expand=True)[[0,1]]"
   ]
  },
  {
   "cell_type": "code",
   "execution_count": 60,
   "metadata": {},
   "outputs": [
    {
     "data": {
      "text/html": [
       "<div>\n",
       "<style scoped>\n",
       "    .dataframe tbody tr th:only-of-type {\n",
       "        vertical-align: middle;\n",
       "    }\n",
       "\n",
       "    .dataframe tbody tr th {\n",
       "        vertical-align: top;\n",
       "    }\n",
       "\n",
       "    .dataframe thead th {\n",
       "        text-align: right;\n",
       "    }\n",
       "</style>\n",
       "<table border=\"1\" class=\"dataframe\">\n",
       "  <thead>\n",
       "    <tr style=\"text-align: right;\">\n",
       "      <th></th>\n",
       "      <th>table</th>\n",
       "      <th>name</th>\n",
       "      <th>type</th>\n",
       "      <th>compressed</th>\n",
       "      <th>uncompressed</th>\n",
       "      <th>ratio</th>\n",
       "      <th>codec</th>\n",
       "      <th>precision</th>\n",
       "      <th>codec_</th>\n",
       "    </tr>\n",
       "  </thead>\n",
       "  <tbody>\n",
       "    <tr>\n",
       "      <th>0</th>\n",
       "      <td>fp16_d_lz</td>\n",
       "      <td>GHLAND</td>\n",
       "      <td>Float32</td>\n",
       "      <td>414803</td>\n",
       "      <td>701184</td>\n",
       "      <td>0.591575</td>\n",
       "      <td>CODEC(Delta(4), LZ4)</td>\n",
       "      <td>fp16</td>\n",
       "      <td>d</td>\n",
       "    </tr>\n",
       "    <tr>\n",
       "      <th>1</th>\n",
       "      <td>full32_d_lz</td>\n",
       "      <td>GHLAND</td>\n",
       "      <td>Float32</td>\n",
       "      <td>529300</td>\n",
       "      <td>701184</td>\n",
       "      <td>0.754866</td>\n",
       "      <td>CODEC(Delta(4), LZ4)</td>\n",
       "      <td>full32</td>\n",
       "      <td>d</td>\n",
       "    </tr>\n",
       "    <tr>\n",
       "      <th>2</th>\n",
       "      <td>full32_dg_lz</td>\n",
       "      <td>GHLAND</td>\n",
       "      <td>Float32</td>\n",
       "      <td>561837</td>\n",
       "      <td>701184</td>\n",
       "      <td>0.801269</td>\n",
       "      <td>CODEC(Delta(4), Gorilla, LZ4)</td>\n",
       "      <td>full32</td>\n",
       "      <td>dg</td>\n",
       "    </tr>\n",
       "    <tr>\n",
       "      <th>3</th>\n",
       "      <td>full32_gorilla_lz</td>\n",
       "      <td>GHLAND</td>\n",
       "      <td>Float32</td>\n",
       "      <td>561588</td>\n",
       "      <td>701184</td>\n",
       "      <td>0.800914</td>\n",
       "      <td>CODEC(Gorilla, LZ4)</td>\n",
       "      <td>full32</td>\n",
       "      <td>gorilla</td>\n",
       "    </tr>\n",
       "    <tr>\n",
       "      <th>4</th>\n",
       "      <td>fp16_gorilla_lz</td>\n",
       "      <td>GHLAND</td>\n",
       "      <td>Float32</td>\n",
       "      <td>343651</td>\n",
       "      <td>701184</td>\n",
       "      <td>0.490101</td>\n",
       "      <td>CODEC(Gorilla, LZ4)</td>\n",
       "      <td>fp16</td>\n",
       "      <td>gorilla</td>\n",
       "    </tr>\n",
       "  </tbody>\n",
       "</table>\n",
       "</div>"
      ],
      "text/plain": [
       "               table    name     type  compressed  uncompressed     ratio  \\\n",
       "0          fp16_d_lz  GHLAND  Float32      414803        701184  0.591575   \n",
       "1        full32_d_lz  GHLAND  Float32      529300        701184  0.754866   \n",
       "2       full32_dg_lz  GHLAND  Float32      561837        701184  0.801269   \n",
       "3  full32_gorilla_lz  GHLAND  Float32      561588        701184  0.800914   \n",
       "4    fp16_gorilla_lz  GHLAND  Float32      343651        701184  0.490101   \n",
       "\n",
       "                           codec precision   codec_  \n",
       "0           CODEC(Delta(4), LZ4)      fp16        d  \n",
       "1           CODEC(Delta(4), LZ4)    full32        d  \n",
       "2  CODEC(Delta(4), Gorilla, LZ4)    full32       dg  \n",
       "3            CODEC(Gorilla, LZ4)    full32  gorilla  \n",
       "4            CODEC(Gorilla, LZ4)      fp16  gorilla  "
      ]
     },
     "execution_count": 60,
     "metadata": {},
     "output_type": "execute_result"
    }
   ],
   "source": [
    "df.head()"
   ]
  },
  {
   "cell_type": "code",
   "execution_count": 70,
   "metadata": {},
   "outputs": [
    {
     "data": {
      "text/html": [
       "\n",
       "<div id=\"altair-viz-f3a4d526420142109e632a7fb29f8cac\"></div>\n",
       "<script type=\"text/javascript\">\n",
       "  (function(spec, embedOpt){\n",
       "    const outputDiv = document.getElementById(\"altair-viz-f3a4d526420142109e632a7fb29f8cac\");\n",
       "    const paths = {\n",
       "      \"vega\": \"https://cdn.jsdelivr.net/npm//vega@5?noext\",\n",
       "      \"vega-lib\": \"https://cdn.jsdelivr.net/npm//vega-lib?noext\",\n",
       "      \"vega-lite\": \"https://cdn.jsdelivr.net/npm//vega-lite@4.0.2?noext\",\n",
       "      \"vega-embed\": \"https://cdn.jsdelivr.net/npm//vega-embed@6?noext\",\n",
       "    };\n",
       "\n",
       "    function loadScript(lib) {\n",
       "      return new Promise(function(resolve, reject) {\n",
       "        var s = document.createElement('script');\n",
       "        s.src = paths[lib];\n",
       "        s.async = true;\n",
       "        s.onload = () => resolve(paths[lib]);\n",
       "        s.onerror = () => reject(`Error loading script: ${paths[lib]}`);\n",
       "        document.getElementsByTagName(\"head\")[0].appendChild(s);\n",
       "      });\n",
       "    }\n",
       "\n",
       "    function showError(err) {\n",
       "      outputDiv.innerHTML = `<div class=\"error\" style=\"color:red;\">${err}</div>`;\n",
       "      throw err;\n",
       "    }\n",
       "\n",
       "    function displayChart(vegaEmbed) {\n",
       "      vegaEmbed(outputDiv, spec, embedOpt)\n",
       "        .catch(err => showError(`Javascript Error: ${err.message}<br>This usually means there's a typo in your chart specification. See the javascript console for the full traceback.`));\n",
       "    }\n",
       "\n",
       "    if(typeof define === \"function\" && define.amd) {\n",
       "      requirejs.config({paths});\n",
       "      require([\"vega-embed\"], displayChart, err => showError(`Error loading script: ${err.message}`));\n",
       "    } else if (typeof vegaEmbed === \"function\") {\n",
       "      displayChart(vegaEmbed);\n",
       "    } else {\n",
       "      loadScript(\"vega\")\n",
       "        .then(() => loadScript(\"vega-lite\"))\n",
       "        .then(() => loadScript(\"vega-embed\"))\n",
       "        .catch(showError)\n",
       "        .then(() => displayChart(vegaEmbed));\n",
       "    }\n",
       "  })({\"config\": {\"view\": {\"continuousWidth\": 400, \"continuousHeight\": 300}}, \"data\": {\"name\": \"data-5134edb8b5bcdc2e30cedd7072b645ba\"}, \"mark\": {\"type\": \"tick\", \"size\": 25, \"thickness\": 4}, \"encoding\": {\"color\": {\"type\": \"nominal\", \"field\": \"codec\"}, \"column\": {\"type\": \"nominal\", \"field\": \"name\"}, \"x\": {\"type\": \"nominal\", \"field\": \"precision\"}, \"y\": {\"type\": \"quantitative\", \"field\": \"compressed\"}}, \"height\": 500, \"width\": 100, \"$schema\": \"https://vega.github.io/schema/vega-lite/v4.0.2.json\", \"datasets\": {\"data-5134edb8b5bcdc2e30cedd7072b645ba\": [{\"table\": \"fp16_d_lz\", \"name\": \"GHLAND\", \"type\": \"Float32\", \"compressed\": 414803, \"uncompressed\": 701184, \"ratio\": 0.5915751072471706, \"codec\": \"CODEC(Delta(4), LZ4)\", \"precision\": \"fp16\", \"codec_\": \"d\"}, {\"table\": \"full32_d_lz\", \"name\": \"GHLAND\", \"type\": \"Float32\", \"compressed\": 529300, \"uncompressed\": 701184, \"ratio\": 0.7548660551296094, \"codec\": \"CODEC(Delta(4), LZ4)\", \"precision\": \"full32\", \"codec_\": \"d\"}, {\"table\": \"full32_dg_lz\", \"name\": \"GHLAND\", \"type\": \"Float32\", \"compressed\": 561837, \"uncompressed\": 701184, \"ratio\": 0.8012689964403067, \"codec\": \"CODEC(Delta(4), Gorilla, LZ4)\", \"precision\": \"full32\", \"codec_\": \"dg\"}, {\"table\": \"full32_gorilla_lz\", \"name\": \"GHLAND\", \"type\": \"Float32\", \"compressed\": 561588, \"uncompressed\": 701184, \"ratio\": 0.800913882803943, \"codec\": \"CODEC(Gorilla, LZ4)\", \"precision\": \"full32\", \"codec_\": \"gorilla\"}, {\"table\": \"fp16_gorilla_lz\", \"name\": \"GHLAND\", \"type\": \"Float32\", \"compressed\": 343651, \"uncompressed\": 701184, \"ratio\": 0.4901010291164658, \"codec\": \"CODEC(Gorilla, LZ4)\", \"precision\": \"fp16\", \"codec_\": \"gorilla\"}, {\"table\": \"round_dd_lz\", \"name\": \"GHLAND\", \"type\": \"Float32\", \"compressed\": 529601, \"uncompressed\": 701184, \"ratio\": 0.7552953290434465, \"codec\": \"CODEC(DoubleDelta, LZ4)\", \"precision\": \"round\", \"codec_\": \"dd\"}, {\"table\": \"round_d_lz\", \"name\": \"GHLAND\", \"type\": \"Float32\", \"compressed\": 396158, \"uncompressed\": 701184, \"ratio\": 0.5649843692953632, \"codec\": \"CODEC(Delta(4), LZ4)\", \"precision\": \"round\", \"codec_\": \"d\"}, {\"table\": \"fp16_dd_lz\", \"name\": \"GHLAND\", \"type\": \"Float32\", \"compressed\": 541476, \"uncompressed\": 701184, \"ratio\": 0.772230969331873, \"codec\": \"CODEC(DoubleDelta, LZ4)\", \"precision\": \"fp16\", \"codec_\": \"dd\"}, {\"table\": \"fp16_dg_lz\", \"name\": \"GHLAND\", \"type\": \"Float32\", \"compressed\": 445514, \"uncompressed\": 701184, \"ratio\": 0.6353738818912011, \"codec\": \"CODEC(Delta(4), Gorilla, LZ4)\", \"precision\": \"fp16\", \"codec_\": \"dg\"}, {\"table\": \"round_gorilla_lz\", \"name\": \"GHLAND\", \"type\": \"Float32\", \"compressed\": 294789, \"uncompressed\": 701184, \"ratio\": 0.4204160391566265, \"codec\": \"CODEC(Gorilla, LZ4)\", \"precision\": \"round\", \"codec_\": \"gorilla\"}, {\"table\": \"full32_dd_lz\", \"name\": \"GHLAND\", \"type\": \"Float32\", \"compressed\": 610457, \"uncompressed\": 701184, \"ratio\": 0.8706088558780577, \"codec\": \"CODEC(DoubleDelta, LZ4)\", \"precision\": \"full32\", \"codec_\": \"dd\"}, {\"table\": \"round_dg_lz\", \"name\": \"GHLAND\", \"type\": \"Float32\", \"compressed\": 444532, \"uncompressed\": 701184, \"ratio\": 0.6339733935742972, \"codec\": \"CODEC(Delta(4), Gorilla, LZ4)\", \"precision\": \"round\", \"codec_\": \"dg\"}, {\"table\": \"round_gorilla_lz\", \"name\": \"PRECTOTCORR\", \"type\": \"Float32\", \"compressed\": 316355, \"uncompressed\": 701184, \"ratio\": 0.4511725880795911, \"codec\": \"CODEC(Gorilla, LZ4)\", \"precision\": \"round\", \"codec_\": \"gorilla\"}, {\"table\": \"round_dd_lz\", \"name\": \"PRECTOTCORR\", \"type\": \"Float32\", \"compressed\": 443112, \"uncompressed\": 701184, \"ratio\": 0.631948247535597, \"codec\": \"CODEC(DoubleDelta, LZ4)\", \"precision\": \"round\", \"codec_\": \"dd\"}, {\"table\": \"full32_dg_lz\", \"name\": \"PRECTOTCORR\", \"type\": \"Float32\", \"compressed\": 619867, \"uncompressed\": 701184, \"ratio\": 0.8840290137824023, \"codec\": \"CODEC(Delta(4), Gorilla, LZ4)\", \"precision\": \"full32\", \"codec_\": \"dg\"}, {\"table\": \"fp16_d_lz\", \"name\": \"PRECTOTCORR\", \"type\": \"Float32\", \"compressed\": 347443, \"uncompressed\": 701184, \"ratio\": 0.4955090247353048, \"codec\": \"CODEC(Delta(4), LZ4)\", \"precision\": \"fp16\", \"codec_\": \"d\"}, {\"table\": \"full32_d_lz\", \"name\": \"PRECTOTCORR\", \"type\": \"Float32\", \"compressed\": 578733, \"uncompressed\": 701184, \"ratio\": 0.8253653819824753, \"codec\": \"CODEC(Delta(4), LZ4)\", \"precision\": \"full32\", \"codec_\": \"d\"}, {\"table\": \"fp16_gorilla_lz\", \"name\": \"PRECTOTCORR\", \"type\": \"Float32\", \"compressed\": 329976, \"uncompressed\": 701184, \"ratio\": 0.4705983023001095, \"codec\": \"CODEC(Gorilla, LZ4)\", \"precision\": \"fp16\", \"codec_\": \"gorilla\"}, {\"table\": \"full32_gorilla_lz\", \"name\": \"PRECTOTCORR\", \"type\": \"Float32\", \"compressed\": 484105, \"uncompressed\": 701184, \"ratio\": 0.6904107908908361, \"codec\": \"CODEC(Gorilla, LZ4)\", \"precision\": \"full32\", \"codec_\": \"gorilla\"}, {\"table\": \"round_dg_lz\", \"name\": \"PRECTOTCORR\", \"type\": \"Float32\", \"compressed\": 405841, \"uncompressed\": 701184, \"ratio\": 0.578793868656444, \"codec\": \"CODEC(Delta(4), Gorilla, LZ4)\", \"precision\": \"round\", \"codec_\": \"dg\"}, {\"table\": \"fp16_dg_lz\", \"name\": \"PRECTOTCORR\", \"type\": \"Float32\", \"compressed\": 418561, \"uncompressed\": 701184, \"ratio\": 0.5969346134538153, \"codec\": \"CODEC(Delta(4), Gorilla, LZ4)\", \"precision\": \"fp16\", \"codec_\": \"dg\"}, {\"table\": \"fp16_dd_lz\", \"name\": \"PRECTOTCORR\", \"type\": \"Float32\", \"compressed\": 458122, \"uncompressed\": 701184, \"ratio\": 0.6533548968601679, \"codec\": \"CODEC(DoubleDelta, LZ4)\", \"precision\": \"fp16\", \"codec_\": \"dd\"}, {\"table\": \"full32_dd_lz\", \"name\": \"PRECTOTCORR\", \"type\": \"Float32\", \"compressed\": 658163, \"uncompressed\": 701184, \"ratio\": 0.9386452058232932, \"codec\": \"CODEC(DoubleDelta, LZ4)\", \"precision\": \"full32\", \"codec_\": \"dd\"}, {\"table\": \"round_d_lz\", \"name\": \"PRECTOTCORR\", \"type\": \"Float32\", \"compressed\": 334265, \"uncompressed\": 701184, \"ratio\": 0.4767150990324936, \"codec\": \"CODEC(Delta(4), LZ4)\", \"precision\": \"round\", \"codec_\": \"d\"}, {\"table\": \"round_dd_lz\", \"name\": \"PS\", \"type\": \"Int32\", \"compressed\": 163676, \"uncompressed\": 701184, \"ratio\": 0.2334280303030303, \"codec\": \"CODEC(DoubleDelta, LZ4)\", \"precision\": \"round\", \"codec_\": \"dd\"}, {\"table\": \"fp16_dd_lz\", \"name\": \"PS\", \"type\": \"Int32\", \"compressed\": 163676, \"uncompressed\": 701184, \"ratio\": 0.2334280303030303, \"codec\": \"CODEC(DoubleDelta, LZ4)\", \"precision\": \"fp16\", \"codec_\": \"dd\"}, {\"table\": \"fp16_dg_lz\", \"name\": \"PS\", \"type\": \"Int32\", \"compressed\": 371480, \"uncompressed\": 701184, \"ratio\": 0.5297896129974443, \"codec\": \"CODEC(Delta(4), Gorilla, LZ4)\", \"precision\": \"fp16\", \"codec_\": \"dg\"}, {\"table\": \"full32_dd_lz\", \"name\": \"PS\", \"type\": \"Int32\", \"compressed\": 196643, \"uncompressed\": 701184, \"ratio\": 0.28044422006206643, \"codec\": \"CODEC(DoubleDelta, LZ4)\", \"precision\": \"full32\", \"codec_\": \"dd\"}, {\"table\": \"full32_gorilla_lz\", \"name\": \"PS\", \"type\": \"Int32\", \"compressed\": 326035, \"uncompressed\": 701184, \"ratio\": 0.4649778089631253, \"codec\": \"CODEC(Gorilla, LZ4)\", \"precision\": \"full32\", \"codec_\": \"gorilla\"}, {\"table\": \"round_gorilla_lz\", \"name\": \"PS\", \"type\": \"Int32\", \"compressed\": 227910, \"uncompressed\": 701184, \"ratio\": 0.325035939211391, \"codec\": \"CODEC(Gorilla, LZ4)\", \"precision\": \"round\", \"codec_\": \"gorilla\"}, {\"table\": \"round_d_lz\", \"name\": \"PS\", \"type\": \"Int32\", \"compressed\": 264437, \"uncompressed\": 701184, \"ratio\": 0.3771292556589996, \"codec\": \"CODEC(Delta(4), LZ4)\", \"precision\": \"round\", \"codec_\": \"d\"}, {\"table\": \"full32_d_lz\", \"name\": \"PS\", \"type\": \"Int32\", \"compressed\": 349144, \"uncompressed\": 701184, \"ratio\": 0.4979349215041986, \"codec\": \"CODEC(Delta(4), LZ4)\", \"precision\": \"full32\", \"codec_\": \"d\"}, {\"table\": \"fp16_d_lz\", \"name\": \"PS\", \"type\": \"Int32\", \"compressed\": 264437, \"uncompressed\": 701184, \"ratio\": 0.3771292556589996, \"codec\": \"CODEC(Delta(4), LZ4)\", \"precision\": \"fp16\", \"codec_\": \"d\"}, {\"table\": \"fp16_gorilla_lz\", \"name\": \"PS\", \"type\": \"Int32\", \"compressed\": 227910, \"uncompressed\": 701184, \"ratio\": 0.325035939211391, \"codec\": \"CODEC(Gorilla, LZ4)\", \"precision\": \"fp16\", \"codec_\": \"gorilla\"}, {\"table\": \"full32_dg_lz\", \"name\": \"PS\", \"type\": \"Int32\", \"compressed\": 439094, \"uncompressed\": 701184, \"ratio\": 0.6262179399415845, \"codec\": \"CODEC(Delta(4), Gorilla, LZ4)\", \"precision\": \"full32\", \"codec_\": \"dg\"}, {\"table\": \"round_dg_lz\", \"name\": \"PS\", \"type\": \"Int32\", \"compressed\": 371480, \"uncompressed\": 701184, \"ratio\": 0.5297896129974443, \"codec\": \"CODEC(Delta(4), Gorilla, LZ4)\", \"precision\": \"round\", \"codec_\": \"dg\"}, {\"table\": \"round_gorilla_lz\", \"name\": \"RHOA\", \"type\": \"Float32\", \"compressed\": 174806, \"uncompressed\": 701184, \"ratio\": 0.2493011820007302, \"codec\": \"CODEC(Gorilla, LZ4)\", \"precision\": \"round\", \"codec_\": \"gorilla\"}, {\"table\": \"full32_dd_lz\", \"name\": \"RHOA\", \"type\": \"Float32\", \"compressed\": 690607, \"uncompressed\": 701184, \"ratio\": 0.9849155143300474, \"codec\": \"CODEC(DoubleDelta, LZ4)\", \"precision\": \"full32\", \"codec_\": \"dd\"}, {\"table\": \"fp16_dg_lz\", \"name\": \"RHOA\", \"type\": \"Float32\", \"compressed\": 214284, \"uncompressed\": 701184, \"ratio\": 0.3056030941949617, \"codec\": \"CODEC(Delta(4), Gorilla, LZ4)\", \"precision\": \"fp16\", \"codec_\": \"dg\"}, {\"table\": \"fp16_dd_lz\", \"name\": \"RHOA\", \"type\": \"Float32\", \"compressed\": 309488, \"uncompressed\": 701184, \"ratio\": 0.44137915297553854, \"codec\": \"CODEC(DoubleDelta, LZ4)\", \"precision\": \"fp16\", \"codec_\": \"dd\"}, {\"table\": \"round_dg_lz\", \"name\": \"RHOA\", \"type\": \"Float32\", \"compressed\": 195059, \"uncompressed\": 701184, \"ratio\": 0.2781851839174881, \"codec\": \"CODEC(Delta(4), Gorilla, LZ4)\", \"precision\": \"round\", \"codec_\": \"dg\"}, {\"table\": \"round_d_lz\", \"name\": \"RHOA\", \"type\": \"Float32\", \"compressed\": 242945, \"uncompressed\": 701184, \"ratio\": 0.3464782425155166, \"codec\": \"CODEC(Delta(4), LZ4)\", \"precision\": \"round\", \"codec_\": \"d\"}, {\"table\": \"round_dd_lz\", \"name\": \"RHOA\", \"type\": \"Float32\", \"compressed\": 278615, \"uncompressed\": 701184, \"ratio\": 0.3973493405439942, \"codec\": \"CODEC(DoubleDelta, LZ4)\", \"precision\": \"round\", \"codec_\": \"dd\"}, {\"table\": \"full32_gorilla_lz\", \"name\": \"RHOA\", \"type\": \"Float32\", \"compressed\": 538283, \"uncompressed\": 701184, \"ratio\": 0.7676772430631618, \"codec\": \"CODEC(Gorilla, LZ4)\", \"precision\": \"full32\", \"codec_\": \"gorilla\"}, {\"table\": \"fp16_gorilla_lz\", \"name\": \"RHOA\", \"type\": \"Float32\", \"compressed\": 192039, \"uncompressed\": 701184, \"ratio\": 0.2738781831872946, \"codec\": \"CODEC(Gorilla, LZ4)\", \"precision\": \"fp16\", \"codec_\": \"gorilla\"}, {\"table\": \"full32_dg_lz\", \"name\": \"RHOA\", \"type\": \"Float32\", \"compressed\": 747227, \"uncompressed\": 701184, \"ratio\": 1.0656646472252649, \"codec\": \"CODEC(Delta(4), Gorilla, LZ4)\", \"precision\": \"full32\", \"codec_\": \"dg\"}, {\"table\": \"full32_d_lz\", \"name\": \"RHOA\", \"type\": \"Float32\", \"compressed\": 697237, \"uncompressed\": 701184, \"ratio\": 0.9943709497079226, \"codec\": \"CODEC(Delta(4), LZ4)\", \"precision\": \"full32\", \"codec_\": \"d\"}, {\"table\": \"fp16_d_lz\", \"name\": \"RHOA\", \"type\": \"Float32\", \"compressed\": 249656, \"uncompressed\": 701184, \"ratio\": 0.3560491967871486, \"codec\": \"CODEC(Delta(4), LZ4)\", \"precision\": \"fp16\", \"codec_\": \"d\"}, {\"table\": \"fp16_gorilla_lz\", \"name\": \"RISFC\", \"type\": \"Float32\", \"compressed\": 460431, \"uncompressed\": 701184, \"ratio\": 0.6566478984118291, \"codec\": \"CODEC(Gorilla, LZ4)\", \"precision\": \"fp16\", \"codec_\": \"gorilla\"}, {\"table\": \"full32_dd_lz\", \"name\": \"RISFC\", \"type\": \"Float32\", \"compressed\": 814202, \"uncompressed\": 701184, \"ratio\": 1.1611816584519898, \"codec\": \"CODEC(DoubleDelta, LZ4)\", \"precision\": \"full32\", \"codec_\": \"dd\"}, {\"table\": \"round_dg_lz\", \"name\": \"RISFC\", \"type\": \"Float32\", \"compressed\": 322990, \"uncompressed\": 701184, \"ratio\": 0.4606351542533771, \"codec\": \"CODEC(Delta(4), Gorilla, LZ4)\", \"precision\": \"round\", \"codec_\": \"dg\"}, {\"table\": \"full32_d_lz\", \"name\": \"RISFC\", \"type\": \"Float32\", \"compressed\": 704446, \"uncompressed\": 701184, \"ratio\": 1.0046521312522818, \"codec\": \"CODEC(Delta(4), LZ4)\", \"precision\": \"full32\", \"codec_\": \"d\"}, {\"table\": \"full32_dg_lz\", \"name\": \"RISFC\", \"type\": \"Float32\", \"compressed\": 748449, \"uncompressed\": 701184, \"ratio\": 1.0674074137458929, \"codec\": \"CODEC(Delta(4), Gorilla, LZ4)\", \"precision\": \"full32\", \"codec_\": \"dg\"}, {\"table\": \"fp16_d_lz\", \"name\": \"RISFC\", \"type\": \"Float32\", \"compressed\": 587800, \"uncompressed\": 701184, \"ratio\": 0.8382963672873311, \"codec\": \"CODEC(Delta(4), LZ4)\", \"precision\": \"fp16\", \"codec_\": \"d\"}, {\"table\": \"round_dd_lz\", \"name\": \"RISFC\", \"type\": \"Float32\", \"compressed\": 400160, \"uncompressed\": 701184, \"ratio\": 0.5706918583424607, \"codec\": \"CODEC(DoubleDelta, LZ4)\", \"precision\": \"round\", \"codec_\": \"dd\"}, {\"table\": \"round_gorilla_lz\", \"name\": \"RISFC\", \"type\": \"Float32\", \"compressed\": 233812, \"uncompressed\": 701184, \"ratio\": 0.3334531307046367, \"codec\": \"CODEC(Gorilla, LZ4)\", \"precision\": \"round\", \"codec_\": \"gorilla\"}, {\"table\": \"fp16_dd_lz\", \"name\": \"RISFC\", \"type\": \"Float32\", \"compressed\": 758249, \"uncompressed\": 701184, \"ratio\": 1.0813837737312888, \"codec\": \"CODEC(DoubleDelta, LZ4)\", \"precision\": \"fp16\", \"codec_\": \"dd\"}, {\"table\": \"round_d_lz\", \"name\": \"RISFC\", \"type\": \"Float32\", \"compressed\": 288339, \"uncompressed\": 701184, \"ratio\": 0.4112173124315444, \"codec\": \"CODEC(Delta(4), LZ4)\", \"precision\": \"round\", \"codec_\": \"d\"}, {\"table\": \"fp16_dg_lz\", \"name\": \"RISFC\", \"type\": \"Float32\", \"compressed\": 573897, \"uncompressed\": 701184, \"ratio\": 0.818468476177437, \"codec\": \"CODEC(Delta(4), Gorilla, LZ4)\", \"precision\": \"fp16\", \"codec_\": \"dg\"}, {\"table\": \"full32_gorilla_lz\", \"name\": \"RISFC\", \"type\": \"Float32\", \"compressed\": 719104, \"uncompressed\": 701184, \"ratio\": 1.0255567725447243, \"codec\": \"CODEC(Gorilla, LZ4)\", \"precision\": \"full32\", \"codec_\": \"gorilla\"}, {\"table\": \"full32_gorilla_lz\", \"name\": \"T10M\", \"type\": \"Float32\", \"compressed\": 506356, \"uncompressed\": 701184, \"ratio\": 0.7221442588535962, \"codec\": \"CODEC(Gorilla, LZ4)\", \"precision\": \"full32\", \"codec_\": \"gorilla\"}, {\"table\": \"fp16_dg_lz\", \"name\": \"T10M\", \"type\": \"Float32\", \"compressed\": 398885, \"uncompressed\": 701184, \"ratio\": 0.5688735053851771, \"codec\": \"CODEC(Delta(4), Gorilla, LZ4)\", \"precision\": \"fp16\", \"codec_\": \"dg\"}, {\"table\": \"full32_d_lz\", \"name\": \"T10M\", \"type\": \"Float32\", \"compressed\": 694184, \"uncompressed\": 701184, \"ratio\": 0.9900168857247171, \"codec\": \"CODEC(Delta(4), LZ4)\", \"precision\": \"full32\", \"codec_\": \"d\"}, {\"table\": \"fp16_dd_lz\", \"name\": \"T10M\", \"type\": \"Float32\", \"compressed\": 521726, \"uncompressed\": 701184, \"ratio\": 0.7440643254837532, \"codec\": \"CODEC(DoubleDelta, LZ4)\", \"precision\": \"fp16\", \"codec_\": \"dd\"}, {\"table\": \"round_dg_lz\", \"name\": \"T10M\", \"type\": \"Float32\", \"compressed\": 305710, \"uncompressed\": 701184, \"ratio\": 0.4359911235852501, \"codec\": \"CODEC(Delta(4), Gorilla, LZ4)\", \"precision\": \"round\", \"codec_\": \"dg\"}, {\"table\": \"full32_dd_lz\", \"name\": \"T10M\", \"type\": \"Float32\", \"compressed\": 796128, \"uncompressed\": 701184, \"ratio\": 1.1354052573932092, \"codec\": \"CODEC(DoubleDelta, LZ4)\", \"precision\": \"full32\", \"codec_\": \"dd\"}, {\"table\": \"fp16_d_lz\", \"name\": \"T10M\", \"type\": \"Float32\", \"compressed\": 420236, \"uncompressed\": 701184, \"ratio\": 0.5993234300839723, \"codec\": \"CODEC(Delta(4), LZ4)\", \"precision\": \"fp16\", \"codec_\": \"d\"}, {\"table\": \"round_dd_lz\", \"name\": \"T10M\", \"type\": \"Float32\", \"compressed\": 390460, \"uncompressed\": 701184, \"ratio\": 0.556858114275283, \"codec\": \"CODEC(DoubleDelta, LZ4)\", \"precision\": \"round\", \"codec_\": \"dd\"}, {\"table\": \"round_gorilla_lz\", \"name\": \"T10M\", \"type\": \"Float32\", \"compressed\": 238278, \"uncompressed\": 701184, \"ratio\": 0.3398223576122673, \"codec\": \"CODEC(Gorilla, LZ4)\", \"precision\": \"round\", \"codec_\": \"gorilla\"}, {\"table\": \"round_d_lz\", \"name\": \"T10M\", \"type\": \"Float32\", \"compressed\": 319650, \"uncompressed\": 701184, \"ratio\": 0.455871782584885, \"codec\": \"CODEC(Delta(4), LZ4)\", \"precision\": \"round\", \"codec_\": \"d\"}, {\"table\": \"full32_dg_lz\", \"name\": \"T10M\", \"type\": \"Float32\", \"compressed\": 672294, \"uncompressed\": 701184, \"ratio\": 0.9587982612267252, \"codec\": \"CODEC(Delta(4), Gorilla, LZ4)\", \"precision\": \"full32\", \"codec_\": \"dg\"}, {\"table\": \"fp16_gorilla_lz\", \"name\": \"T10M\", \"type\": \"Float32\", \"compressed\": 386127, \"uncompressed\": 701184, \"ratio\": 0.5506785665388828, \"codec\": \"CODEC(Gorilla, LZ4)\", \"precision\": \"fp16\", \"codec_\": \"gorilla\"}, {\"table\": \"fp16_dd_lz\", \"name\": \"TS\", \"type\": \"Float32\", \"compressed\": 516049, \"uncompressed\": 701184, \"ratio\": 0.7359680198064987, \"codec\": \"CODEC(DoubleDelta, LZ4)\", \"precision\": \"fp16\", \"codec_\": \"dd\"}, {\"table\": \"full32_d_lz\", \"name\": \"TS\", \"type\": \"Float32\", \"compressed\": 656766, \"uncompressed\": 701184, \"ratio\": 0.9366528614457832, \"codec\": \"CODEC(Delta(4), LZ4)\", \"precision\": \"full32\", \"codec_\": \"d\"}, {\"table\": \"fp16_dg_lz\", \"name\": \"TS\", \"type\": \"Float32\", \"compressed\": 381998, \"uncompressed\": 701184, \"ratio\": 0.5447899552756479, \"codec\": \"CODEC(Delta(4), Gorilla, LZ4)\", \"precision\": \"fp16\", \"codec_\": \"dg\"}, {\"table\": \"full32_dd_lz\", \"name\": \"TS\", \"type\": \"Float32\", \"compressed\": 748467, \"uncompressed\": 701184, \"ratio\": 1.067433084611172, \"codec\": \"CODEC(DoubleDelta, LZ4)\", \"precision\": \"full32\", \"codec_\": \"dd\"}, {\"table\": \"round_gorilla_lz\", \"name\": \"TS\", \"type\": \"Float32\", \"compressed\": 234401, \"uncompressed\": 701184, \"ratio\": 0.3342931384629427, \"codec\": \"CODEC(Gorilla, LZ4)\", \"precision\": \"round\", \"codec_\": \"gorilla\"}, {\"table\": \"round_d_lz\", \"name\": \"TS\", \"type\": \"Float32\", \"compressed\": 295796, \"uncompressed\": 701184, \"ratio\": 0.42185218145308506, \"codec\": \"CODEC(Delta(4), LZ4)\", \"precision\": \"round\", \"codec_\": \"d\"}, {\"table\": \"full32_gorilla_lz\", \"name\": \"TS\", \"type\": \"Float32\", \"compressed\": 520740, \"uncompressed\": 701184, \"ratio\": 0.7426581325301205, \"codec\": \"CODEC(Gorilla, LZ4)\", \"precision\": \"full32\", \"codec_\": \"gorilla\"}, {\"table\": \"fp16_d_lz\", \"name\": \"TS\", \"type\": \"Float32\", \"compressed\": 414652, \"uncompressed\": 701184, \"ratio\": 0.5913597572106608, \"codec\": \"CODEC(Delta(4), LZ4)\", \"precision\": \"fp16\", \"codec_\": \"d\"}, {\"table\": \"round_dg_lz\", \"name\": \"TS\", \"type\": \"Float32\", \"compressed\": 304261, \"uncompressed\": 701184, \"ratio\": 0.4339246189302665, \"codec\": \"CODEC(Delta(4), Gorilla, LZ4)\", \"precision\": \"round\", \"codec_\": \"dg\"}, {\"table\": \"fp16_gorilla_lz\", \"name\": \"TS\", \"type\": \"Float32\", \"compressed\": 358130, \"uncompressed\": 701184, \"ratio\": 0.5107503879152976, \"codec\": \"CODEC(Gorilla, LZ4)\", \"precision\": \"fp16\", \"codec_\": \"gorilla\"}, {\"table\": \"full32_dg_lz\", \"name\": \"TS\", \"type\": \"Float32\", \"compressed\": 663736, \"uncompressed\": 701184, \"ratio\": 0.9465931909456006, \"codec\": \"CODEC(Delta(4), Gorilla, LZ4)\", \"precision\": \"full32\", \"codec_\": \"dg\"}, {\"table\": \"round_dd_lz\", \"name\": \"TS\", \"type\": \"Float32\", \"compressed\": 383680, \"uncompressed\": 701184, \"ratio\": 0.5471887550200804, \"codec\": \"CODEC(DoubleDelta, LZ4)\", \"precision\": \"round\", \"codec_\": \"dd\"}, {\"table\": \"full32_dg_lz\", \"name\": \"WDIR50M\", \"type\": \"Float32\", \"compressed\": 748644, \"uncompressed\": 701184, \"ratio\": 1.0676855147864184, \"codec\": \"CODEC(Delta(4), Gorilla, LZ4)\", \"precision\": \"full32\", \"codec_\": \"dg\"}, {\"table\": \"round_dd_lz\", \"name\": \"WDIR50M\", \"type\": \"Float32\", \"compressed\": 653568, \"uncompressed\": 701184, \"ratio\": 0.9320920043811609, \"codec\": \"CODEC(DoubleDelta, LZ4)\", \"precision\": \"round\", \"codec_\": \"dd\"}, {\"table\": \"full32_dd_lz\", \"name\": \"WDIR50M\", \"type\": \"Float32\", \"compressed\": 809775, \"uncompressed\": 701184, \"ratio\": 1.1548680517524643, \"codec\": \"CODEC(DoubleDelta, LZ4)\", \"precision\": \"full32\", \"codec_\": \"dd\"}, {\"table\": \"full32_d_lz\", \"name\": \"WDIR50M\", \"type\": \"Float32\", \"compressed\": 704517, \"uncompressed\": 701184, \"ratio\": 1.0047533885542168, \"codec\": \"CODEC(Delta(4), LZ4)\", \"precision\": \"full32\", \"codec_\": \"d\"}, {\"table\": \"round_gorilla_lz\", \"name\": \"WDIR50M\", \"type\": \"Float32\", \"compressed\": 462782, \"uncompressed\": 701184, \"ratio\": 0.6600007986491421, \"codec\": \"CODEC(Gorilla, LZ4)\", \"precision\": \"round\", \"codec_\": \"gorilla\"}, {\"table\": \"fp16_gorilla_lz\", \"name\": \"WDIR50M\", \"type\": \"Float32\", \"compressed\": 462782, \"uncompressed\": 701184, \"ratio\": 0.6600007986491421, \"codec\": \"CODEC(Gorilla, LZ4)\", \"precision\": \"fp16\", \"codec_\": \"gorilla\"}, {\"table\": \"full32_gorilla_lz\", \"name\": \"WDIR50M\", \"type\": \"Float32\", \"compressed\": 723725, \"uncompressed\": 701184, \"ratio\": 1.0321470541255933, \"codec\": \"CODEC(Gorilla, LZ4)\", \"precision\": \"full32\", \"codec_\": \"gorilla\"}, {\"table\": \"round_dg_lz\", \"name\": \"WDIR50M\", \"type\": \"Float32\", \"compressed\": 472193, \"uncompressed\": 701184, \"ratio\": 0.6734223827126689, \"codec\": \"CODEC(Delta(4), Gorilla, LZ4)\", \"precision\": \"round\", \"codec_\": \"dg\"}, {\"table\": \"fp16_dg_lz\", \"name\": \"WDIR50M\", \"type\": \"Float32\", \"compressed\": 472193, \"uncompressed\": 701184, \"ratio\": 0.6734223827126689, \"codec\": \"CODEC(Delta(4), Gorilla, LZ4)\", \"precision\": \"fp16\", \"codec_\": \"dg\"}, {\"table\": \"fp16_dd_lz\", \"name\": \"WDIR50M\", \"type\": \"Float32\", \"compressed\": 653568, \"uncompressed\": 701184, \"ratio\": 0.9320920043811609, \"codec\": \"CODEC(DoubleDelta, LZ4)\", \"precision\": \"fp16\", \"codec_\": \"dd\"}, {\"table\": \"fp16_d_lz\", \"name\": \"WDIR50M\", \"type\": \"Float32\", \"compressed\": 495294, \"uncompressed\": 701184, \"ratio\": 0.7063680859802848, \"codec\": \"CODEC(Delta(4), LZ4)\", \"precision\": \"fp16\", \"codec_\": \"d\"}, {\"table\": \"round_d_lz\", \"name\": \"WDIR50M\", \"type\": \"Float32\", \"compressed\": 495294, \"uncompressed\": 701184, \"ratio\": 0.7063680859802848, \"codec\": \"CODEC(Delta(4), LZ4)\", \"precision\": \"round\", \"codec_\": \"d\"}, {\"table\": \"full32_dg_lz\", \"name\": \"WS50M\", \"type\": \"Float32\", \"compressed\": 748666, \"uncompressed\": 701184, \"ratio\": 1.0677168902884264, \"codec\": \"CODEC(Delta(4), Gorilla, LZ4)\", \"precision\": \"full32\", \"codec_\": \"dg\"}, {\"table\": \"round_dd_lz\", \"name\": \"WS50M\", \"type\": \"Float32\", \"compressed\": 757590, \"uncompressed\": 701184, \"ratio\": 1.08044393483023, \"codec\": \"CODEC(DoubleDelta, LZ4)\", \"precision\": \"round\", \"codec_\": \"dd\"}, {\"table\": \"full32_dd_lz\", \"name\": \"WS50M\", \"type\": \"Float32\", \"compressed\": 813405, \"uncompressed\": 701184, \"ratio\": 1.1600450095837898, \"codec\": \"CODEC(DoubleDelta, LZ4)\", \"precision\": \"full32\", \"codec_\": \"dd\"}, {\"table\": \"full32_d_lz\", \"name\": \"WS50M\", \"type\": \"Float32\", \"compressed\": 704522, \"uncompressed\": 701184, \"ratio\": 1.004760519350128, \"codec\": \"CODEC(Delta(4), LZ4)\", \"precision\": \"full32\", \"codec_\": \"d\"}, {\"table\": \"full32_gorilla_lz\", \"name\": \"WS50M\", \"type\": \"Float32\", \"compressed\": 726219, \"uncompressed\": 701184, \"ratio\": 1.0357038951259585, \"codec\": \"CODEC(Gorilla, LZ4)\", \"precision\": \"full32\", \"codec_\": \"gorilla\"}, {\"table\": \"fp16_gorilla_lz\", \"name\": \"WS50M\", \"type\": \"Float32\", \"compressed\": 400139, \"uncompressed\": 701184, \"ratio\": 0.5706619089996349, \"codec\": \"CODEC(Gorilla, LZ4)\", \"precision\": \"fp16\", \"codec_\": \"gorilla\"}, {\"table\": \"round_dg_lz\", \"name\": \"WS50M\", \"type\": \"Float32\", \"compressed\": 526608, \"uncompressed\": 701184, \"ratio\": 0.7510268346111719, \"codec\": \"CODEC(Delta(4), Gorilla, LZ4)\", \"precision\": \"round\", \"codec_\": \"dg\"}, {\"table\": \"fp16_dg_lz\", \"name\": \"WS50M\", \"type\": \"Float32\", \"compressed\": 526608, \"uncompressed\": 701184, \"ratio\": 0.7510268346111719, \"codec\": \"CODEC(Delta(4), Gorilla, LZ4)\", \"precision\": \"fp16\", \"codec_\": \"dg\"}, {\"table\": \"fp16_dd_lz\", \"name\": \"WS50M\", \"type\": \"Float32\", \"compressed\": 757590, \"uncompressed\": 701184, \"ratio\": 1.08044393483023, \"codec\": \"CODEC(DoubleDelta, LZ4)\", \"precision\": \"fp16\", \"codec_\": \"dd\"}, {\"table\": \"fp16_d_lz\", \"name\": \"WS50M\", \"type\": \"Float32\", \"compressed\": 582226, \"uncompressed\": 701184, \"ratio\": 0.8303469560058415, \"codec\": \"CODEC(Delta(4), LZ4)\", \"precision\": \"fp16\", \"codec_\": \"d\"}, {\"table\": \"round_gorilla_lz\", \"name\": \"WS50M\", \"type\": \"Float32\", \"compressed\": 400139, \"uncompressed\": 701184, \"ratio\": 0.5706619089996349, \"codec\": \"CODEC(Gorilla, LZ4)\", \"precision\": \"round\", \"codec_\": \"gorilla\"}, {\"table\": \"round_d_lz\", \"name\": \"WS50M\", \"type\": \"Float32\", \"compressed\": 582226, \"uncompressed\": 701184, \"ratio\": 0.8303469560058415, \"codec\": \"CODEC(Delta(4), LZ4)\", \"precision\": \"round\", \"codec_\": \"d\"}, {\"table\": \"round_dd_lz\", \"name\": \"lat\", \"type\": \"Float32\", \"compressed\": 894, \"uncompressed\": 701184, \"ratio\": 0.0012749863088718511, \"codec\": \"CODEC(DoubleDelta, LZ4)\", \"precision\": \"round\", \"codec_\": \"dd\"}, {\"table\": \"full32_dg_lz\", \"name\": \"lat\", \"type\": \"Float32\", \"compressed\": 1051, \"uncompressed\": 701184, \"ratio\": 0.0014988933004746255, \"codec\": \"CODEC(Delta(4), Gorilla, LZ4)\", \"precision\": \"full32\", \"codec_\": \"dg\"}, {\"table\": \"fp16_dd_lz\", \"name\": \"lat\", \"type\": \"Float32\", \"compressed\": 894, \"uncompressed\": 701184, \"ratio\": 0.0012749863088718511, \"codec\": \"CODEC(DoubleDelta, LZ4)\", \"precision\": \"fp16\", \"codec_\": \"dd\"}, {\"table\": \"fp16_dg_lz\", \"name\": \"lat\", \"type\": \"Float32\", \"compressed\": 1051, \"uncompressed\": 701184, \"ratio\": 0.0014988933004746255, \"codec\": \"CODEC(Delta(4), Gorilla, LZ4)\", \"precision\": \"fp16\", \"codec_\": \"dg\"}, {\"table\": \"round_gorilla_lz\", \"name\": \"lat\", \"type\": \"Float32\", \"compressed\": 894, \"uncompressed\": 701184, \"ratio\": 0.0012749863088718511, \"codec\": \"CODEC(Gorilla, LZ4)\", \"precision\": \"round\", \"codec_\": \"gorilla\"}, {\"table\": \"round_d_lz\", \"name\": \"lat\", \"type\": \"Float32\", \"compressed\": 3506, \"uncompressed\": 701184, \"ratio\": 0.005000114092734574, \"codec\": \"CODEC(Delta(4), LZ4)\", \"precision\": \"round\", \"codec_\": \"d\"}, {\"table\": \"fp16_gorilla_lz\", \"name\": \"lat\", \"type\": \"Float32\", \"compressed\": 894, \"uncompressed\": 701184, \"ratio\": 0.0012749863088718511, \"codec\": \"CODEC(Gorilla, LZ4)\", \"precision\": \"fp16\", \"codec_\": \"gorilla\"}, {\"table\": \"full32_d_lz\", \"name\": \"lat\", \"type\": \"Float32\", \"compressed\": 3506, \"uncompressed\": 701184, \"ratio\": 0.005000114092734574, \"codec\": \"CODEC(Delta(4), LZ4)\", \"precision\": \"full32\", \"codec_\": \"d\"}, {\"table\": \"full32_gorilla_lz\", \"name\": \"lat\", \"type\": \"Float32\", \"compressed\": 894, \"uncompressed\": 701184, \"ratio\": 0.0012749863088718511, \"codec\": \"CODEC(Gorilla, LZ4)\", \"precision\": \"full32\", \"codec_\": \"gorilla\"}, {\"table\": \"full32_dd_lz\", \"name\": \"lat\", \"type\": \"Float32\", \"compressed\": 894, \"uncompressed\": 701184, \"ratio\": 0.0012749863088718511, \"codec\": \"CODEC(DoubleDelta, LZ4)\", \"precision\": \"full32\", \"codec_\": \"dd\"}, {\"table\": \"round_dg_lz\", \"name\": \"lat\", \"type\": \"Float32\", \"compressed\": 1051, \"uncompressed\": 701184, \"ratio\": 0.0014988933004746255, \"codec\": \"CODEC(Delta(4), Gorilla, LZ4)\", \"precision\": \"round\", \"codec_\": \"dg\"}, {\"table\": \"fp16_d_lz\", \"name\": \"lat\", \"type\": \"Float32\", \"compressed\": 3506, \"uncompressed\": 701184, \"ratio\": 0.005000114092734574, \"codec\": \"CODEC(Delta(4), LZ4)\", \"precision\": \"fp16\", \"codec_\": \"d\"}, {\"table\": \"full32_dg_lz\", \"name\": \"lon\", \"type\": \"Float32\", \"compressed\": 1084, \"uncompressed\": 701184, \"ratio\": 0.001545956553486674, \"codec\": \"CODEC(Delta(4), Gorilla, LZ4)\", \"precision\": \"full32\", \"codec_\": \"dg\"}, {\"table\": \"round_dg_lz\", \"name\": \"lon\", \"type\": \"Float32\", \"compressed\": 1084, \"uncompressed\": 701184, \"ratio\": 0.001545956553486674, \"codec\": \"CODEC(Delta(4), Gorilla, LZ4)\", \"precision\": \"round\", \"codec_\": \"dg\"}, {\"table\": \"full32_dd_lz\", \"name\": \"lon\", \"type\": \"Float32\", \"compressed\": 938, \"uncompressed\": 701184, \"ratio\": 0.0013377373128879153, \"codec\": \"CODEC(DoubleDelta, LZ4)\", \"precision\": \"full32\", \"codec_\": \"dd\"}, {\"table\": \"round_dd_lz\", \"name\": \"lon\", \"type\": \"Float32\", \"compressed\": 938, \"uncompressed\": 701184, \"ratio\": 0.0013377373128879153, \"codec\": \"CODEC(DoubleDelta, LZ4)\", \"precision\": \"round\", \"codec_\": \"dd\"}, {\"table\": \"full32_d_lz\", \"name\": \"lon\", \"type\": \"Float32\", \"compressed\": 3520, \"uncompressed\": 701184, \"ratio\": 0.0050200803212851405, \"codec\": \"CODEC(Delta(4), LZ4)\", \"precision\": \"full32\", \"codec_\": \"d\"}, {\"table\": \"full32_gorilla_lz\", \"name\": \"lon\", \"type\": \"Float32\", \"compressed\": 926, \"uncompressed\": 701184, \"ratio\": 0.001320623402701716, \"codec\": \"CODEC(Gorilla, LZ4)\", \"precision\": \"full32\", \"codec_\": \"gorilla\"}, {\"table\": \"fp16_gorilla_lz\", \"name\": \"lon\", \"type\": \"Float32\", \"compressed\": 926, \"uncompressed\": 701184, \"ratio\": 0.001320623402701716, \"codec\": \"CODEC(Gorilla, LZ4)\", \"precision\": \"fp16\", \"codec_\": \"gorilla\"}, {\"table\": \"round_d_lz\", \"name\": \"lon\", \"type\": \"Float32\", \"compressed\": 3520, \"uncompressed\": 701184, \"ratio\": 0.0050200803212851405, \"codec\": \"CODEC(Delta(4), LZ4)\", \"precision\": \"round\", \"codec_\": \"d\"}, {\"table\": \"round_gorilla_lz\", \"name\": \"lon\", \"type\": \"Float32\", \"compressed\": 926, \"uncompressed\": 701184, \"ratio\": 0.001320623402701716, \"codec\": \"CODEC(Gorilla, LZ4)\", \"precision\": \"round\", \"codec_\": \"gorilla\"}, {\"table\": \"fp16_dg_lz\", \"name\": \"lon\", \"type\": \"Float32\", \"compressed\": 1084, \"uncompressed\": 701184, \"ratio\": 0.001545956553486674, \"codec\": \"CODEC(Delta(4), Gorilla, LZ4)\", \"precision\": \"fp16\", \"codec_\": \"dg\"}, {\"table\": \"fp16_dd_lz\", \"name\": \"lon\", \"type\": \"Float32\", \"compressed\": 938, \"uncompressed\": 701184, \"ratio\": 0.0013377373128879153, \"codec\": \"CODEC(DoubleDelta, LZ4)\", \"precision\": \"fp16\", \"codec_\": \"dd\"}, {\"table\": \"fp16_d_lz\", \"name\": \"lon\", \"type\": \"Float32\", \"compressed\": 3520, \"uncompressed\": 701184, \"ratio\": 0.0050200803212851405, \"codec\": \"CODEC(Delta(4), LZ4)\", \"precision\": \"fp16\", \"codec_\": \"d\"}, {\"table\": \"round_dg_lz\", \"name\": \"time\", \"type\": \"DateTime(\\\\'UTC\\\\')\", \"compressed\": 1102, \"uncompressed\": 701184, \"ratio\": 0.001571627418765973, \"codec\": \"CODEC(Delta(4), Gorilla, LZ4)\", \"precision\": \"round\", \"codec_\": \"dg\"}, {\"table\": \"full32_dd_lz\", \"name\": \"time\", \"type\": \"DateTime(\\\\'UTC\\\\')\", \"compressed\": 962, \"uncompressed\": 701184, \"ratio\": 0.001371965133260314, \"codec\": \"CODEC(DoubleDelta, LZ4)\", \"precision\": \"full32\", \"codec_\": \"dd\"}, {\"table\": \"full32_dg_lz\", \"name\": \"time\", \"type\": \"DateTime(\\\\'UTC\\\\')\", \"compressed\": 1102, \"uncompressed\": 701184, \"ratio\": 0.001571627418765973, \"codec\": \"CODEC(Delta(4), Gorilla, LZ4)\", \"precision\": \"full32\", \"codec_\": \"dg\"}, {\"table\": \"fp16_gorilla_lz\", \"name\": \"time\", \"type\": \"DateTime(\\\\'UTC\\\\')\", \"compressed\": 204820, \"uncompressed\": 701184, \"ratio\": 0.2921059236947791, \"codec\": \"CODEC(Gorilla, LZ4)\", \"precision\": \"fp16\", \"codec_\": \"gorilla\"}, {\"table\": \"full32_gorilla_lz\", \"name\": \"time\", \"type\": \"DateTime(\\\\'UTC\\\\')\", \"compressed\": 204820, \"uncompressed\": 701184, \"ratio\": 0.2921059236947791, \"codec\": \"CODEC(Gorilla, LZ4)\", \"precision\": \"full32\", \"codec_\": \"gorilla\"}, {\"table\": \"round_gorilla_lz\", \"name\": \"time\", \"type\": \"DateTime(\\\\'UTC\\\\')\", \"compressed\": 204820, \"uncompressed\": 701184, \"ratio\": 0.2921059236947791, \"codec\": \"CODEC(Gorilla, LZ4)\", \"precision\": \"round\", \"codec_\": \"gorilla\"}, {\"table\": \"fp16_dg_lz\", \"name\": \"time\", \"type\": \"DateTime(\\\\'UTC\\\\')\", \"compressed\": 1102, \"uncompressed\": 701184, \"ratio\": 0.001571627418765973, \"codec\": \"CODEC(Delta(4), Gorilla, LZ4)\", \"precision\": \"fp16\", \"codec_\": \"dg\"}, {\"table\": \"round_d_lz\", \"name\": \"time\", \"type\": \"DateTime(\\\\'UTC\\\\')\", \"compressed\": 3556, \"uncompressed\": 701184, \"ratio\": 0.005071422051843738, \"codec\": \"CODEC(Delta(4), LZ4)\", \"precision\": \"round\", \"codec_\": \"d\"}, {\"table\": \"fp16_dd_lz\", \"name\": \"time\", \"type\": \"DateTime(\\\\'UTC\\\\')\", \"compressed\": 962, \"uncompressed\": 701184, \"ratio\": 0.001371965133260314, \"codec\": \"CODEC(DoubleDelta, LZ4)\", \"precision\": \"fp16\", \"codec_\": \"dd\"}, {\"table\": \"round_dd_lz\", \"name\": \"time\", \"type\": \"DateTime(\\\\'UTC\\\\')\", \"compressed\": 962, \"uncompressed\": 701184, \"ratio\": 0.001371965133260314, \"codec\": \"CODEC(DoubleDelta, LZ4)\", \"precision\": \"round\", \"codec_\": \"dd\"}, {\"table\": \"fp16_d_lz\", \"name\": \"time\", \"type\": \"DateTime(\\\\'UTC\\\\')\", \"compressed\": 3556, \"uncompressed\": 701184, \"ratio\": 0.005071422051843738, \"codec\": \"CODEC(Delta(4), LZ4)\", \"precision\": \"fp16\", \"codec_\": \"d\"}, {\"table\": \"full32_d_lz\", \"name\": \"time\", \"type\": \"DateTime(\\\\'UTC\\\\')\", \"compressed\": 3556, \"uncompressed\": 701184, \"ratio\": 0.005071422051843738, \"codec\": \"CODEC(Delta(4), LZ4)\", \"precision\": \"full32\", \"codec_\": \"d\"}]}}, {\"mode\": \"vega-lite\"});\n",
       "</script>"
      ],
      "text/plain": [
       "alt.Chart(...)"
      ]
     },
     "execution_count": 70,
     "metadata": {},
     "output_type": "execute_result"
    }
   ],
   "source": [
    "alt.Chart(df).mark_tick(thickness=4, size=25).encode(\n",
    "    x='precision:N',\n",
    "    y='compressed:Q',\n",
    "    #row='codec_:N',\n",
    "    color='codec:N',\n",
    "    column='name:N'\n",
    ").properties(\n",
    "    width=100,\n",
    "    height=500,\n",
    ")"
   ]
  },
  {
   "cell_type": "markdown",
   "metadata": {},
   "source": [
    "## Zoom in on indices with log scale"
   ]
  },
  {
   "cell_type": "code",
   "execution_count": 73,
   "metadata": {},
   "outputs": [
    {
     "data": {
      "text/html": [
       "\n",
       "<div id=\"altair-viz-f4fcd1d4eb5142a7ab259571cbdc902a\"></div>\n",
       "<script type=\"text/javascript\">\n",
       "  (function(spec, embedOpt){\n",
       "    const outputDiv = document.getElementById(\"altair-viz-f4fcd1d4eb5142a7ab259571cbdc902a\");\n",
       "    const paths = {\n",
       "      \"vega\": \"https://cdn.jsdelivr.net/npm//vega@5?noext\",\n",
       "      \"vega-lib\": \"https://cdn.jsdelivr.net/npm//vega-lib?noext\",\n",
       "      \"vega-lite\": \"https://cdn.jsdelivr.net/npm//vega-lite@4.0.2?noext\",\n",
       "      \"vega-embed\": \"https://cdn.jsdelivr.net/npm//vega-embed@6?noext\",\n",
       "    };\n",
       "\n",
       "    function loadScript(lib) {\n",
       "      return new Promise(function(resolve, reject) {\n",
       "        var s = document.createElement('script');\n",
       "        s.src = paths[lib];\n",
       "        s.async = true;\n",
       "        s.onload = () => resolve(paths[lib]);\n",
       "        s.onerror = () => reject(`Error loading script: ${paths[lib]}`);\n",
       "        document.getElementsByTagName(\"head\")[0].appendChild(s);\n",
       "      });\n",
       "    }\n",
       "\n",
       "    function showError(err) {\n",
       "      outputDiv.innerHTML = `<div class=\"error\" style=\"color:red;\">${err}</div>`;\n",
       "      throw err;\n",
       "    }\n",
       "\n",
       "    function displayChart(vegaEmbed) {\n",
       "      vegaEmbed(outputDiv, spec, embedOpt)\n",
       "        .catch(err => showError(`Javascript Error: ${err.message}<br>This usually means there's a typo in your chart specification. See the javascript console for the full traceback.`));\n",
       "    }\n",
       "\n",
       "    if(typeof define === \"function\" && define.amd) {\n",
       "      requirejs.config({paths});\n",
       "      require([\"vega-embed\"], displayChart, err => showError(`Error loading script: ${err.message}`));\n",
       "    } else if (typeof vegaEmbed === \"function\") {\n",
       "      displayChart(vegaEmbed);\n",
       "    } else {\n",
       "      loadScript(\"vega\")\n",
       "        .then(() => loadScript(\"vega-lite\"))\n",
       "        .then(() => loadScript(\"vega-embed\"))\n",
       "        .catch(showError)\n",
       "        .then(() => displayChart(vegaEmbed));\n",
       "    }\n",
       "  })({\"config\": {\"view\": {\"continuousWidth\": 400, \"continuousHeight\": 300}}, \"data\": {\"name\": \"data-5134edb8b5bcdc2e30cedd7072b645ba\"}, \"mark\": {\"type\": \"tick\", \"size\": 25, \"thickness\": 4}, \"encoding\": {\"color\": {\"type\": \"nominal\", \"field\": \"codec\"}, \"column\": {\"type\": \"nominal\", \"field\": \"name\"}, \"x\": {\"type\": \"nominal\", \"field\": \"precision\"}, \"y\": {\"type\": \"quantitative\", \"field\": \"compressed\", \"scale\": {\"base\": 2, \"type\": \"log\"}}}, \"height\": 500, \"transform\": [{\"filter\": {\"field\": \"name\", \"oneOf\": [\"lat\", \"lon\", \"time\"]}}], \"width\": 100, \"$schema\": \"https://vega.github.io/schema/vega-lite/v4.0.2.json\", \"datasets\": {\"data-5134edb8b5bcdc2e30cedd7072b645ba\": [{\"table\": \"fp16_d_lz\", \"name\": \"GHLAND\", \"type\": \"Float32\", \"compressed\": 414803, \"uncompressed\": 701184, \"ratio\": 0.5915751072471706, \"codec\": \"CODEC(Delta(4), LZ4)\", \"precision\": \"fp16\", \"codec_\": \"d\"}, {\"table\": \"full32_d_lz\", \"name\": \"GHLAND\", \"type\": \"Float32\", \"compressed\": 529300, \"uncompressed\": 701184, \"ratio\": 0.7548660551296094, \"codec\": \"CODEC(Delta(4), LZ4)\", \"precision\": \"full32\", \"codec_\": \"d\"}, {\"table\": \"full32_dg_lz\", \"name\": \"GHLAND\", \"type\": \"Float32\", \"compressed\": 561837, \"uncompressed\": 701184, \"ratio\": 0.8012689964403067, \"codec\": \"CODEC(Delta(4), Gorilla, LZ4)\", \"precision\": \"full32\", \"codec_\": \"dg\"}, {\"table\": \"full32_gorilla_lz\", \"name\": \"GHLAND\", \"type\": \"Float32\", \"compressed\": 561588, \"uncompressed\": 701184, \"ratio\": 0.800913882803943, \"codec\": \"CODEC(Gorilla, LZ4)\", \"precision\": \"full32\", \"codec_\": \"gorilla\"}, {\"table\": \"fp16_gorilla_lz\", \"name\": \"GHLAND\", \"type\": \"Float32\", \"compressed\": 343651, \"uncompressed\": 701184, \"ratio\": 0.4901010291164658, \"codec\": \"CODEC(Gorilla, LZ4)\", \"precision\": \"fp16\", \"codec_\": \"gorilla\"}, {\"table\": \"round_dd_lz\", \"name\": \"GHLAND\", \"type\": \"Float32\", \"compressed\": 529601, \"uncompressed\": 701184, \"ratio\": 0.7552953290434465, \"codec\": \"CODEC(DoubleDelta, LZ4)\", \"precision\": \"round\", \"codec_\": \"dd\"}, {\"table\": \"round_d_lz\", \"name\": \"GHLAND\", \"type\": \"Float32\", \"compressed\": 396158, \"uncompressed\": 701184, \"ratio\": 0.5649843692953632, \"codec\": \"CODEC(Delta(4), LZ4)\", \"precision\": \"round\", \"codec_\": \"d\"}, {\"table\": \"fp16_dd_lz\", \"name\": \"GHLAND\", \"type\": \"Float32\", \"compressed\": 541476, \"uncompressed\": 701184, \"ratio\": 0.772230969331873, \"codec\": \"CODEC(DoubleDelta, LZ4)\", \"precision\": \"fp16\", \"codec_\": \"dd\"}, {\"table\": \"fp16_dg_lz\", \"name\": \"GHLAND\", \"type\": \"Float32\", \"compressed\": 445514, \"uncompressed\": 701184, \"ratio\": 0.6353738818912011, \"codec\": \"CODEC(Delta(4), Gorilla, LZ4)\", \"precision\": \"fp16\", \"codec_\": \"dg\"}, {\"table\": \"round_gorilla_lz\", \"name\": \"GHLAND\", \"type\": \"Float32\", \"compressed\": 294789, \"uncompressed\": 701184, \"ratio\": 0.4204160391566265, \"codec\": \"CODEC(Gorilla, LZ4)\", \"precision\": \"round\", \"codec_\": \"gorilla\"}, {\"table\": \"full32_dd_lz\", \"name\": \"GHLAND\", \"type\": \"Float32\", \"compressed\": 610457, \"uncompressed\": 701184, \"ratio\": 0.8706088558780577, \"codec\": \"CODEC(DoubleDelta, LZ4)\", \"precision\": \"full32\", \"codec_\": \"dd\"}, {\"table\": \"round_dg_lz\", \"name\": \"GHLAND\", \"type\": \"Float32\", \"compressed\": 444532, \"uncompressed\": 701184, \"ratio\": 0.6339733935742972, \"codec\": \"CODEC(Delta(4), Gorilla, LZ4)\", \"precision\": \"round\", \"codec_\": \"dg\"}, {\"table\": \"round_gorilla_lz\", \"name\": \"PRECTOTCORR\", \"type\": \"Float32\", \"compressed\": 316355, \"uncompressed\": 701184, \"ratio\": 0.4511725880795911, \"codec\": \"CODEC(Gorilla, LZ4)\", \"precision\": \"round\", \"codec_\": \"gorilla\"}, {\"table\": \"round_dd_lz\", \"name\": \"PRECTOTCORR\", \"type\": \"Float32\", \"compressed\": 443112, \"uncompressed\": 701184, \"ratio\": 0.631948247535597, \"codec\": \"CODEC(DoubleDelta, LZ4)\", \"precision\": \"round\", \"codec_\": \"dd\"}, {\"table\": \"full32_dg_lz\", \"name\": \"PRECTOTCORR\", \"type\": \"Float32\", \"compressed\": 619867, \"uncompressed\": 701184, \"ratio\": 0.8840290137824023, \"codec\": \"CODEC(Delta(4), Gorilla, LZ4)\", \"precision\": \"full32\", \"codec_\": \"dg\"}, {\"table\": \"fp16_d_lz\", \"name\": \"PRECTOTCORR\", \"type\": \"Float32\", \"compressed\": 347443, \"uncompressed\": 701184, \"ratio\": 0.4955090247353048, \"codec\": \"CODEC(Delta(4), LZ4)\", \"precision\": \"fp16\", \"codec_\": \"d\"}, {\"table\": \"full32_d_lz\", \"name\": \"PRECTOTCORR\", \"type\": \"Float32\", \"compressed\": 578733, \"uncompressed\": 701184, \"ratio\": 0.8253653819824753, \"codec\": \"CODEC(Delta(4), LZ4)\", \"precision\": \"full32\", \"codec_\": \"d\"}, {\"table\": \"fp16_gorilla_lz\", \"name\": \"PRECTOTCORR\", \"type\": \"Float32\", \"compressed\": 329976, \"uncompressed\": 701184, \"ratio\": 0.4705983023001095, \"codec\": \"CODEC(Gorilla, LZ4)\", \"precision\": \"fp16\", \"codec_\": \"gorilla\"}, {\"table\": \"full32_gorilla_lz\", \"name\": \"PRECTOTCORR\", \"type\": \"Float32\", \"compressed\": 484105, \"uncompressed\": 701184, \"ratio\": 0.6904107908908361, \"codec\": \"CODEC(Gorilla, LZ4)\", \"precision\": \"full32\", \"codec_\": \"gorilla\"}, {\"table\": \"round_dg_lz\", \"name\": \"PRECTOTCORR\", \"type\": \"Float32\", \"compressed\": 405841, \"uncompressed\": 701184, \"ratio\": 0.578793868656444, \"codec\": \"CODEC(Delta(4), Gorilla, LZ4)\", \"precision\": \"round\", \"codec_\": \"dg\"}, {\"table\": \"fp16_dg_lz\", \"name\": \"PRECTOTCORR\", \"type\": \"Float32\", \"compressed\": 418561, \"uncompressed\": 701184, \"ratio\": 0.5969346134538153, \"codec\": \"CODEC(Delta(4), Gorilla, LZ4)\", \"precision\": \"fp16\", \"codec_\": \"dg\"}, {\"table\": \"fp16_dd_lz\", \"name\": \"PRECTOTCORR\", \"type\": \"Float32\", \"compressed\": 458122, \"uncompressed\": 701184, \"ratio\": 0.6533548968601679, \"codec\": \"CODEC(DoubleDelta, LZ4)\", \"precision\": \"fp16\", \"codec_\": \"dd\"}, {\"table\": \"full32_dd_lz\", \"name\": \"PRECTOTCORR\", \"type\": \"Float32\", \"compressed\": 658163, \"uncompressed\": 701184, \"ratio\": 0.9386452058232932, \"codec\": \"CODEC(DoubleDelta, LZ4)\", \"precision\": \"full32\", \"codec_\": \"dd\"}, {\"table\": \"round_d_lz\", \"name\": \"PRECTOTCORR\", \"type\": \"Float32\", \"compressed\": 334265, \"uncompressed\": 701184, \"ratio\": 0.4767150990324936, \"codec\": \"CODEC(Delta(4), LZ4)\", \"precision\": \"round\", \"codec_\": \"d\"}, {\"table\": \"round_dd_lz\", \"name\": \"PS\", \"type\": \"Int32\", \"compressed\": 163676, \"uncompressed\": 701184, \"ratio\": 0.2334280303030303, \"codec\": \"CODEC(DoubleDelta, LZ4)\", \"precision\": \"round\", \"codec_\": \"dd\"}, {\"table\": \"fp16_dd_lz\", \"name\": \"PS\", \"type\": \"Int32\", \"compressed\": 163676, \"uncompressed\": 701184, \"ratio\": 0.2334280303030303, \"codec\": \"CODEC(DoubleDelta, LZ4)\", \"precision\": \"fp16\", \"codec_\": \"dd\"}, {\"table\": \"fp16_dg_lz\", \"name\": \"PS\", \"type\": \"Int32\", \"compressed\": 371480, \"uncompressed\": 701184, \"ratio\": 0.5297896129974443, \"codec\": \"CODEC(Delta(4), Gorilla, LZ4)\", \"precision\": \"fp16\", \"codec_\": \"dg\"}, {\"table\": \"full32_dd_lz\", \"name\": \"PS\", \"type\": \"Int32\", \"compressed\": 196643, \"uncompressed\": 701184, \"ratio\": 0.28044422006206643, \"codec\": \"CODEC(DoubleDelta, LZ4)\", \"precision\": \"full32\", \"codec_\": \"dd\"}, {\"table\": \"full32_gorilla_lz\", \"name\": \"PS\", \"type\": \"Int32\", \"compressed\": 326035, \"uncompressed\": 701184, \"ratio\": 0.4649778089631253, \"codec\": \"CODEC(Gorilla, LZ4)\", \"precision\": \"full32\", \"codec_\": \"gorilla\"}, {\"table\": \"round_gorilla_lz\", \"name\": \"PS\", \"type\": \"Int32\", \"compressed\": 227910, \"uncompressed\": 701184, \"ratio\": 0.325035939211391, \"codec\": \"CODEC(Gorilla, LZ4)\", \"precision\": \"round\", \"codec_\": \"gorilla\"}, {\"table\": \"round_d_lz\", \"name\": \"PS\", \"type\": \"Int32\", \"compressed\": 264437, \"uncompressed\": 701184, \"ratio\": 0.3771292556589996, \"codec\": \"CODEC(Delta(4), LZ4)\", \"precision\": \"round\", \"codec_\": \"d\"}, {\"table\": \"full32_d_lz\", \"name\": \"PS\", \"type\": \"Int32\", \"compressed\": 349144, \"uncompressed\": 701184, \"ratio\": 0.4979349215041986, \"codec\": \"CODEC(Delta(4), LZ4)\", \"precision\": \"full32\", \"codec_\": \"d\"}, {\"table\": \"fp16_d_lz\", \"name\": \"PS\", \"type\": \"Int32\", \"compressed\": 264437, \"uncompressed\": 701184, \"ratio\": 0.3771292556589996, \"codec\": \"CODEC(Delta(4), LZ4)\", \"precision\": \"fp16\", \"codec_\": \"d\"}, {\"table\": \"fp16_gorilla_lz\", \"name\": \"PS\", \"type\": \"Int32\", \"compressed\": 227910, \"uncompressed\": 701184, \"ratio\": 0.325035939211391, \"codec\": \"CODEC(Gorilla, LZ4)\", \"precision\": \"fp16\", \"codec_\": \"gorilla\"}, {\"table\": \"full32_dg_lz\", \"name\": \"PS\", \"type\": \"Int32\", \"compressed\": 439094, \"uncompressed\": 701184, \"ratio\": 0.6262179399415845, \"codec\": \"CODEC(Delta(4), Gorilla, LZ4)\", \"precision\": \"full32\", \"codec_\": \"dg\"}, {\"table\": \"round_dg_lz\", \"name\": \"PS\", \"type\": \"Int32\", \"compressed\": 371480, \"uncompressed\": 701184, \"ratio\": 0.5297896129974443, \"codec\": \"CODEC(Delta(4), Gorilla, LZ4)\", \"precision\": \"round\", \"codec_\": \"dg\"}, {\"table\": \"round_gorilla_lz\", \"name\": \"RHOA\", \"type\": \"Float32\", \"compressed\": 174806, \"uncompressed\": 701184, \"ratio\": 0.2493011820007302, \"codec\": \"CODEC(Gorilla, LZ4)\", \"precision\": \"round\", \"codec_\": \"gorilla\"}, {\"table\": \"full32_dd_lz\", \"name\": \"RHOA\", \"type\": \"Float32\", \"compressed\": 690607, \"uncompressed\": 701184, \"ratio\": 0.9849155143300474, \"codec\": \"CODEC(DoubleDelta, LZ4)\", \"precision\": \"full32\", \"codec_\": \"dd\"}, {\"table\": \"fp16_dg_lz\", \"name\": \"RHOA\", \"type\": \"Float32\", \"compressed\": 214284, \"uncompressed\": 701184, \"ratio\": 0.3056030941949617, \"codec\": \"CODEC(Delta(4), Gorilla, LZ4)\", \"precision\": \"fp16\", \"codec_\": \"dg\"}, {\"table\": \"fp16_dd_lz\", \"name\": \"RHOA\", \"type\": \"Float32\", \"compressed\": 309488, \"uncompressed\": 701184, \"ratio\": 0.44137915297553854, \"codec\": \"CODEC(DoubleDelta, LZ4)\", \"precision\": \"fp16\", \"codec_\": \"dd\"}, {\"table\": \"round_dg_lz\", \"name\": \"RHOA\", \"type\": \"Float32\", \"compressed\": 195059, \"uncompressed\": 701184, \"ratio\": 0.2781851839174881, \"codec\": \"CODEC(Delta(4), Gorilla, LZ4)\", \"precision\": \"round\", \"codec_\": \"dg\"}, {\"table\": \"round_d_lz\", \"name\": \"RHOA\", \"type\": \"Float32\", \"compressed\": 242945, \"uncompressed\": 701184, \"ratio\": 0.3464782425155166, \"codec\": \"CODEC(Delta(4), LZ4)\", \"precision\": \"round\", \"codec_\": \"d\"}, {\"table\": \"round_dd_lz\", \"name\": \"RHOA\", \"type\": \"Float32\", \"compressed\": 278615, \"uncompressed\": 701184, \"ratio\": 0.3973493405439942, \"codec\": \"CODEC(DoubleDelta, LZ4)\", \"precision\": \"round\", \"codec_\": \"dd\"}, {\"table\": \"full32_gorilla_lz\", \"name\": \"RHOA\", \"type\": \"Float32\", \"compressed\": 538283, \"uncompressed\": 701184, \"ratio\": 0.7676772430631618, \"codec\": \"CODEC(Gorilla, LZ4)\", \"precision\": \"full32\", \"codec_\": \"gorilla\"}, {\"table\": \"fp16_gorilla_lz\", \"name\": \"RHOA\", \"type\": \"Float32\", \"compressed\": 192039, \"uncompressed\": 701184, \"ratio\": 0.2738781831872946, \"codec\": \"CODEC(Gorilla, LZ4)\", \"precision\": \"fp16\", \"codec_\": \"gorilla\"}, {\"table\": \"full32_dg_lz\", \"name\": \"RHOA\", \"type\": \"Float32\", \"compressed\": 747227, \"uncompressed\": 701184, \"ratio\": 1.0656646472252649, \"codec\": \"CODEC(Delta(4), Gorilla, LZ4)\", \"precision\": \"full32\", \"codec_\": \"dg\"}, {\"table\": \"full32_d_lz\", \"name\": \"RHOA\", \"type\": \"Float32\", \"compressed\": 697237, \"uncompressed\": 701184, \"ratio\": 0.9943709497079226, \"codec\": \"CODEC(Delta(4), LZ4)\", \"precision\": \"full32\", \"codec_\": \"d\"}, {\"table\": \"fp16_d_lz\", \"name\": \"RHOA\", \"type\": \"Float32\", \"compressed\": 249656, \"uncompressed\": 701184, \"ratio\": 0.3560491967871486, \"codec\": \"CODEC(Delta(4), LZ4)\", \"precision\": \"fp16\", \"codec_\": \"d\"}, {\"table\": \"fp16_gorilla_lz\", \"name\": \"RISFC\", \"type\": \"Float32\", \"compressed\": 460431, \"uncompressed\": 701184, \"ratio\": 0.6566478984118291, \"codec\": \"CODEC(Gorilla, LZ4)\", \"precision\": \"fp16\", \"codec_\": \"gorilla\"}, {\"table\": \"full32_dd_lz\", \"name\": \"RISFC\", \"type\": \"Float32\", \"compressed\": 814202, \"uncompressed\": 701184, \"ratio\": 1.1611816584519898, \"codec\": \"CODEC(DoubleDelta, LZ4)\", \"precision\": \"full32\", \"codec_\": \"dd\"}, {\"table\": \"round_dg_lz\", \"name\": \"RISFC\", \"type\": \"Float32\", \"compressed\": 322990, \"uncompressed\": 701184, \"ratio\": 0.4606351542533771, \"codec\": \"CODEC(Delta(4), Gorilla, LZ4)\", \"precision\": \"round\", \"codec_\": \"dg\"}, {\"table\": \"full32_d_lz\", \"name\": \"RISFC\", \"type\": \"Float32\", \"compressed\": 704446, \"uncompressed\": 701184, \"ratio\": 1.0046521312522818, \"codec\": \"CODEC(Delta(4), LZ4)\", \"precision\": \"full32\", \"codec_\": \"d\"}, {\"table\": \"full32_dg_lz\", \"name\": \"RISFC\", \"type\": \"Float32\", \"compressed\": 748449, \"uncompressed\": 701184, \"ratio\": 1.0674074137458929, \"codec\": \"CODEC(Delta(4), Gorilla, LZ4)\", \"precision\": \"full32\", \"codec_\": \"dg\"}, {\"table\": \"fp16_d_lz\", \"name\": \"RISFC\", \"type\": \"Float32\", \"compressed\": 587800, \"uncompressed\": 701184, \"ratio\": 0.8382963672873311, \"codec\": \"CODEC(Delta(4), LZ4)\", \"precision\": \"fp16\", \"codec_\": \"d\"}, {\"table\": \"round_dd_lz\", \"name\": \"RISFC\", \"type\": \"Float32\", \"compressed\": 400160, \"uncompressed\": 701184, \"ratio\": 0.5706918583424607, \"codec\": \"CODEC(DoubleDelta, LZ4)\", \"precision\": \"round\", \"codec_\": \"dd\"}, {\"table\": \"round_gorilla_lz\", \"name\": \"RISFC\", \"type\": \"Float32\", \"compressed\": 233812, \"uncompressed\": 701184, \"ratio\": 0.3334531307046367, \"codec\": \"CODEC(Gorilla, LZ4)\", \"precision\": \"round\", \"codec_\": \"gorilla\"}, {\"table\": \"fp16_dd_lz\", \"name\": \"RISFC\", \"type\": \"Float32\", \"compressed\": 758249, \"uncompressed\": 701184, \"ratio\": 1.0813837737312888, \"codec\": \"CODEC(DoubleDelta, LZ4)\", \"precision\": \"fp16\", \"codec_\": \"dd\"}, {\"table\": \"round_d_lz\", \"name\": \"RISFC\", \"type\": \"Float32\", \"compressed\": 288339, \"uncompressed\": 701184, \"ratio\": 0.4112173124315444, \"codec\": \"CODEC(Delta(4), LZ4)\", \"precision\": \"round\", \"codec_\": \"d\"}, {\"table\": \"fp16_dg_lz\", \"name\": \"RISFC\", \"type\": \"Float32\", \"compressed\": 573897, \"uncompressed\": 701184, \"ratio\": 0.818468476177437, \"codec\": \"CODEC(Delta(4), Gorilla, LZ4)\", \"precision\": \"fp16\", \"codec_\": \"dg\"}, {\"table\": \"full32_gorilla_lz\", \"name\": \"RISFC\", \"type\": \"Float32\", \"compressed\": 719104, \"uncompressed\": 701184, \"ratio\": 1.0255567725447243, \"codec\": \"CODEC(Gorilla, LZ4)\", \"precision\": \"full32\", \"codec_\": \"gorilla\"}, {\"table\": \"full32_gorilla_lz\", \"name\": \"T10M\", \"type\": \"Float32\", \"compressed\": 506356, \"uncompressed\": 701184, \"ratio\": 0.7221442588535962, \"codec\": \"CODEC(Gorilla, LZ4)\", \"precision\": \"full32\", \"codec_\": \"gorilla\"}, {\"table\": \"fp16_dg_lz\", \"name\": \"T10M\", \"type\": \"Float32\", \"compressed\": 398885, \"uncompressed\": 701184, \"ratio\": 0.5688735053851771, \"codec\": \"CODEC(Delta(4), Gorilla, LZ4)\", \"precision\": \"fp16\", \"codec_\": \"dg\"}, {\"table\": \"full32_d_lz\", \"name\": \"T10M\", \"type\": \"Float32\", \"compressed\": 694184, \"uncompressed\": 701184, \"ratio\": 0.9900168857247171, \"codec\": \"CODEC(Delta(4), LZ4)\", \"precision\": \"full32\", \"codec_\": \"d\"}, {\"table\": \"fp16_dd_lz\", \"name\": \"T10M\", \"type\": \"Float32\", \"compressed\": 521726, \"uncompressed\": 701184, \"ratio\": 0.7440643254837532, \"codec\": \"CODEC(DoubleDelta, LZ4)\", \"precision\": \"fp16\", \"codec_\": \"dd\"}, {\"table\": \"round_dg_lz\", \"name\": \"T10M\", \"type\": \"Float32\", \"compressed\": 305710, \"uncompressed\": 701184, \"ratio\": 0.4359911235852501, \"codec\": \"CODEC(Delta(4), Gorilla, LZ4)\", \"precision\": \"round\", \"codec_\": \"dg\"}, {\"table\": \"full32_dd_lz\", \"name\": \"T10M\", \"type\": \"Float32\", \"compressed\": 796128, \"uncompressed\": 701184, \"ratio\": 1.1354052573932092, \"codec\": \"CODEC(DoubleDelta, LZ4)\", \"precision\": \"full32\", \"codec_\": \"dd\"}, {\"table\": \"fp16_d_lz\", \"name\": \"T10M\", \"type\": \"Float32\", \"compressed\": 420236, \"uncompressed\": 701184, \"ratio\": 0.5993234300839723, \"codec\": \"CODEC(Delta(4), LZ4)\", \"precision\": \"fp16\", \"codec_\": \"d\"}, {\"table\": \"round_dd_lz\", \"name\": \"T10M\", \"type\": \"Float32\", \"compressed\": 390460, \"uncompressed\": 701184, \"ratio\": 0.556858114275283, \"codec\": \"CODEC(DoubleDelta, LZ4)\", \"precision\": \"round\", \"codec_\": \"dd\"}, {\"table\": \"round_gorilla_lz\", \"name\": \"T10M\", \"type\": \"Float32\", \"compressed\": 238278, \"uncompressed\": 701184, \"ratio\": 0.3398223576122673, \"codec\": \"CODEC(Gorilla, LZ4)\", \"precision\": \"round\", \"codec_\": \"gorilla\"}, {\"table\": \"round_d_lz\", \"name\": \"T10M\", \"type\": \"Float32\", \"compressed\": 319650, \"uncompressed\": 701184, \"ratio\": 0.455871782584885, \"codec\": \"CODEC(Delta(4), LZ4)\", \"precision\": \"round\", \"codec_\": \"d\"}, {\"table\": \"full32_dg_lz\", \"name\": \"T10M\", \"type\": \"Float32\", \"compressed\": 672294, \"uncompressed\": 701184, \"ratio\": 0.9587982612267252, \"codec\": \"CODEC(Delta(4), Gorilla, LZ4)\", \"precision\": \"full32\", \"codec_\": \"dg\"}, {\"table\": \"fp16_gorilla_lz\", \"name\": \"T10M\", \"type\": \"Float32\", \"compressed\": 386127, \"uncompressed\": 701184, \"ratio\": 0.5506785665388828, \"codec\": \"CODEC(Gorilla, LZ4)\", \"precision\": \"fp16\", \"codec_\": \"gorilla\"}, {\"table\": \"fp16_dd_lz\", \"name\": \"TS\", \"type\": \"Float32\", \"compressed\": 516049, \"uncompressed\": 701184, \"ratio\": 0.7359680198064987, \"codec\": \"CODEC(DoubleDelta, LZ4)\", \"precision\": \"fp16\", \"codec_\": \"dd\"}, {\"table\": \"full32_d_lz\", \"name\": \"TS\", \"type\": \"Float32\", \"compressed\": 656766, \"uncompressed\": 701184, \"ratio\": 0.9366528614457832, \"codec\": \"CODEC(Delta(4), LZ4)\", \"precision\": \"full32\", \"codec_\": \"d\"}, {\"table\": \"fp16_dg_lz\", \"name\": \"TS\", \"type\": \"Float32\", \"compressed\": 381998, \"uncompressed\": 701184, \"ratio\": 0.5447899552756479, \"codec\": \"CODEC(Delta(4), Gorilla, LZ4)\", \"precision\": \"fp16\", \"codec_\": \"dg\"}, {\"table\": \"full32_dd_lz\", \"name\": \"TS\", \"type\": \"Float32\", \"compressed\": 748467, \"uncompressed\": 701184, \"ratio\": 1.067433084611172, \"codec\": \"CODEC(DoubleDelta, LZ4)\", \"precision\": \"full32\", \"codec_\": \"dd\"}, {\"table\": \"round_gorilla_lz\", \"name\": \"TS\", \"type\": \"Float32\", \"compressed\": 234401, \"uncompressed\": 701184, \"ratio\": 0.3342931384629427, \"codec\": \"CODEC(Gorilla, LZ4)\", \"precision\": \"round\", \"codec_\": \"gorilla\"}, {\"table\": \"round_d_lz\", \"name\": \"TS\", \"type\": \"Float32\", \"compressed\": 295796, \"uncompressed\": 701184, \"ratio\": 0.42185218145308506, \"codec\": \"CODEC(Delta(4), LZ4)\", \"precision\": \"round\", \"codec_\": \"d\"}, {\"table\": \"full32_gorilla_lz\", \"name\": \"TS\", \"type\": \"Float32\", \"compressed\": 520740, \"uncompressed\": 701184, \"ratio\": 0.7426581325301205, \"codec\": \"CODEC(Gorilla, LZ4)\", \"precision\": \"full32\", \"codec_\": \"gorilla\"}, {\"table\": \"fp16_d_lz\", \"name\": \"TS\", \"type\": \"Float32\", \"compressed\": 414652, \"uncompressed\": 701184, \"ratio\": 0.5913597572106608, \"codec\": \"CODEC(Delta(4), LZ4)\", \"precision\": \"fp16\", \"codec_\": \"d\"}, {\"table\": \"round_dg_lz\", \"name\": \"TS\", \"type\": \"Float32\", \"compressed\": 304261, \"uncompressed\": 701184, \"ratio\": 0.4339246189302665, \"codec\": \"CODEC(Delta(4), Gorilla, LZ4)\", \"precision\": \"round\", \"codec_\": \"dg\"}, {\"table\": \"fp16_gorilla_lz\", \"name\": \"TS\", \"type\": \"Float32\", \"compressed\": 358130, \"uncompressed\": 701184, \"ratio\": 0.5107503879152976, \"codec\": \"CODEC(Gorilla, LZ4)\", \"precision\": \"fp16\", \"codec_\": \"gorilla\"}, {\"table\": \"full32_dg_lz\", \"name\": \"TS\", \"type\": \"Float32\", \"compressed\": 663736, \"uncompressed\": 701184, \"ratio\": 0.9465931909456006, \"codec\": \"CODEC(Delta(4), Gorilla, LZ4)\", \"precision\": \"full32\", \"codec_\": \"dg\"}, {\"table\": \"round_dd_lz\", \"name\": \"TS\", \"type\": \"Float32\", \"compressed\": 383680, \"uncompressed\": 701184, \"ratio\": 0.5471887550200804, \"codec\": \"CODEC(DoubleDelta, LZ4)\", \"precision\": \"round\", \"codec_\": \"dd\"}, {\"table\": \"full32_dg_lz\", \"name\": \"WDIR50M\", \"type\": \"Float32\", \"compressed\": 748644, \"uncompressed\": 701184, \"ratio\": 1.0676855147864184, \"codec\": \"CODEC(Delta(4), Gorilla, LZ4)\", \"precision\": \"full32\", \"codec_\": \"dg\"}, {\"table\": \"round_dd_lz\", \"name\": \"WDIR50M\", \"type\": \"Float32\", \"compressed\": 653568, \"uncompressed\": 701184, \"ratio\": 0.9320920043811609, \"codec\": \"CODEC(DoubleDelta, LZ4)\", \"precision\": \"round\", \"codec_\": \"dd\"}, {\"table\": \"full32_dd_lz\", \"name\": \"WDIR50M\", \"type\": \"Float32\", \"compressed\": 809775, \"uncompressed\": 701184, \"ratio\": 1.1548680517524643, \"codec\": \"CODEC(DoubleDelta, LZ4)\", \"precision\": \"full32\", \"codec_\": \"dd\"}, {\"table\": \"full32_d_lz\", \"name\": \"WDIR50M\", \"type\": \"Float32\", \"compressed\": 704517, \"uncompressed\": 701184, \"ratio\": 1.0047533885542168, \"codec\": \"CODEC(Delta(4), LZ4)\", \"precision\": \"full32\", \"codec_\": \"d\"}, {\"table\": \"round_gorilla_lz\", \"name\": \"WDIR50M\", \"type\": \"Float32\", \"compressed\": 462782, \"uncompressed\": 701184, \"ratio\": 0.6600007986491421, \"codec\": \"CODEC(Gorilla, LZ4)\", \"precision\": \"round\", \"codec_\": \"gorilla\"}, {\"table\": \"fp16_gorilla_lz\", \"name\": \"WDIR50M\", \"type\": \"Float32\", \"compressed\": 462782, \"uncompressed\": 701184, \"ratio\": 0.6600007986491421, \"codec\": \"CODEC(Gorilla, LZ4)\", \"precision\": \"fp16\", \"codec_\": \"gorilla\"}, {\"table\": \"full32_gorilla_lz\", \"name\": \"WDIR50M\", \"type\": \"Float32\", \"compressed\": 723725, \"uncompressed\": 701184, \"ratio\": 1.0321470541255933, \"codec\": \"CODEC(Gorilla, LZ4)\", \"precision\": \"full32\", \"codec_\": \"gorilla\"}, {\"table\": \"round_dg_lz\", \"name\": \"WDIR50M\", \"type\": \"Float32\", \"compressed\": 472193, \"uncompressed\": 701184, \"ratio\": 0.6734223827126689, \"codec\": \"CODEC(Delta(4), Gorilla, LZ4)\", \"precision\": \"round\", \"codec_\": \"dg\"}, {\"table\": \"fp16_dg_lz\", \"name\": \"WDIR50M\", \"type\": \"Float32\", \"compressed\": 472193, \"uncompressed\": 701184, \"ratio\": 0.6734223827126689, \"codec\": \"CODEC(Delta(4), Gorilla, LZ4)\", \"precision\": \"fp16\", \"codec_\": \"dg\"}, {\"table\": \"fp16_dd_lz\", \"name\": \"WDIR50M\", \"type\": \"Float32\", \"compressed\": 653568, \"uncompressed\": 701184, \"ratio\": 0.9320920043811609, \"codec\": \"CODEC(DoubleDelta, LZ4)\", \"precision\": \"fp16\", \"codec_\": \"dd\"}, {\"table\": \"fp16_d_lz\", \"name\": \"WDIR50M\", \"type\": \"Float32\", \"compressed\": 495294, \"uncompressed\": 701184, \"ratio\": 0.7063680859802848, \"codec\": \"CODEC(Delta(4), LZ4)\", \"precision\": \"fp16\", \"codec_\": \"d\"}, {\"table\": \"round_d_lz\", \"name\": \"WDIR50M\", \"type\": \"Float32\", \"compressed\": 495294, \"uncompressed\": 701184, \"ratio\": 0.7063680859802848, \"codec\": \"CODEC(Delta(4), LZ4)\", \"precision\": \"round\", \"codec_\": \"d\"}, {\"table\": \"full32_dg_lz\", \"name\": \"WS50M\", \"type\": \"Float32\", \"compressed\": 748666, \"uncompressed\": 701184, \"ratio\": 1.0677168902884264, \"codec\": \"CODEC(Delta(4), Gorilla, LZ4)\", \"precision\": \"full32\", \"codec_\": \"dg\"}, {\"table\": \"round_dd_lz\", \"name\": \"WS50M\", \"type\": \"Float32\", \"compressed\": 757590, \"uncompressed\": 701184, \"ratio\": 1.08044393483023, \"codec\": \"CODEC(DoubleDelta, LZ4)\", \"precision\": \"round\", \"codec_\": \"dd\"}, {\"table\": \"full32_dd_lz\", \"name\": \"WS50M\", \"type\": \"Float32\", \"compressed\": 813405, \"uncompressed\": 701184, \"ratio\": 1.1600450095837898, \"codec\": \"CODEC(DoubleDelta, LZ4)\", \"precision\": \"full32\", \"codec_\": \"dd\"}, {\"table\": \"full32_d_lz\", \"name\": \"WS50M\", \"type\": \"Float32\", \"compressed\": 704522, \"uncompressed\": 701184, \"ratio\": 1.004760519350128, \"codec\": \"CODEC(Delta(4), LZ4)\", \"precision\": \"full32\", \"codec_\": \"d\"}, {\"table\": \"full32_gorilla_lz\", \"name\": \"WS50M\", \"type\": \"Float32\", \"compressed\": 726219, \"uncompressed\": 701184, \"ratio\": 1.0357038951259585, \"codec\": \"CODEC(Gorilla, LZ4)\", \"precision\": \"full32\", \"codec_\": \"gorilla\"}, {\"table\": \"fp16_gorilla_lz\", \"name\": \"WS50M\", \"type\": \"Float32\", \"compressed\": 400139, \"uncompressed\": 701184, \"ratio\": 0.5706619089996349, \"codec\": \"CODEC(Gorilla, LZ4)\", \"precision\": \"fp16\", \"codec_\": \"gorilla\"}, {\"table\": \"round_dg_lz\", \"name\": \"WS50M\", \"type\": \"Float32\", \"compressed\": 526608, \"uncompressed\": 701184, \"ratio\": 0.7510268346111719, \"codec\": \"CODEC(Delta(4), Gorilla, LZ4)\", \"precision\": \"round\", \"codec_\": \"dg\"}, {\"table\": \"fp16_dg_lz\", \"name\": \"WS50M\", \"type\": \"Float32\", \"compressed\": 526608, \"uncompressed\": 701184, \"ratio\": 0.7510268346111719, \"codec\": \"CODEC(Delta(4), Gorilla, LZ4)\", \"precision\": \"fp16\", \"codec_\": \"dg\"}, {\"table\": \"fp16_dd_lz\", \"name\": \"WS50M\", \"type\": \"Float32\", \"compressed\": 757590, \"uncompressed\": 701184, \"ratio\": 1.08044393483023, \"codec\": \"CODEC(DoubleDelta, LZ4)\", \"precision\": \"fp16\", \"codec_\": \"dd\"}, {\"table\": \"fp16_d_lz\", \"name\": \"WS50M\", \"type\": \"Float32\", \"compressed\": 582226, \"uncompressed\": 701184, \"ratio\": 0.8303469560058415, \"codec\": \"CODEC(Delta(4), LZ4)\", \"precision\": \"fp16\", \"codec_\": \"d\"}, {\"table\": \"round_gorilla_lz\", \"name\": \"WS50M\", \"type\": \"Float32\", \"compressed\": 400139, \"uncompressed\": 701184, \"ratio\": 0.5706619089996349, \"codec\": \"CODEC(Gorilla, LZ4)\", \"precision\": \"round\", \"codec_\": \"gorilla\"}, {\"table\": \"round_d_lz\", \"name\": \"WS50M\", \"type\": \"Float32\", \"compressed\": 582226, \"uncompressed\": 701184, \"ratio\": 0.8303469560058415, \"codec\": \"CODEC(Delta(4), LZ4)\", \"precision\": \"round\", \"codec_\": \"d\"}, {\"table\": \"round_dd_lz\", \"name\": \"lat\", \"type\": \"Float32\", \"compressed\": 894, \"uncompressed\": 701184, \"ratio\": 0.0012749863088718511, \"codec\": \"CODEC(DoubleDelta, LZ4)\", \"precision\": \"round\", \"codec_\": \"dd\"}, {\"table\": \"full32_dg_lz\", \"name\": \"lat\", \"type\": \"Float32\", \"compressed\": 1051, \"uncompressed\": 701184, \"ratio\": 0.0014988933004746255, \"codec\": \"CODEC(Delta(4), Gorilla, LZ4)\", \"precision\": \"full32\", \"codec_\": \"dg\"}, {\"table\": \"fp16_dd_lz\", \"name\": \"lat\", \"type\": \"Float32\", \"compressed\": 894, \"uncompressed\": 701184, \"ratio\": 0.0012749863088718511, \"codec\": \"CODEC(DoubleDelta, LZ4)\", \"precision\": \"fp16\", \"codec_\": \"dd\"}, {\"table\": \"fp16_dg_lz\", \"name\": \"lat\", \"type\": \"Float32\", \"compressed\": 1051, \"uncompressed\": 701184, \"ratio\": 0.0014988933004746255, \"codec\": \"CODEC(Delta(4), Gorilla, LZ4)\", \"precision\": \"fp16\", \"codec_\": \"dg\"}, {\"table\": \"round_gorilla_lz\", \"name\": \"lat\", \"type\": \"Float32\", \"compressed\": 894, \"uncompressed\": 701184, \"ratio\": 0.0012749863088718511, \"codec\": \"CODEC(Gorilla, LZ4)\", \"precision\": \"round\", \"codec_\": \"gorilla\"}, {\"table\": \"round_d_lz\", \"name\": \"lat\", \"type\": \"Float32\", \"compressed\": 3506, \"uncompressed\": 701184, \"ratio\": 0.005000114092734574, \"codec\": \"CODEC(Delta(4), LZ4)\", \"precision\": \"round\", \"codec_\": \"d\"}, {\"table\": \"fp16_gorilla_lz\", \"name\": \"lat\", \"type\": \"Float32\", \"compressed\": 894, \"uncompressed\": 701184, \"ratio\": 0.0012749863088718511, \"codec\": \"CODEC(Gorilla, LZ4)\", \"precision\": \"fp16\", \"codec_\": \"gorilla\"}, {\"table\": \"full32_d_lz\", \"name\": \"lat\", \"type\": \"Float32\", \"compressed\": 3506, \"uncompressed\": 701184, \"ratio\": 0.005000114092734574, \"codec\": \"CODEC(Delta(4), LZ4)\", \"precision\": \"full32\", \"codec_\": \"d\"}, {\"table\": \"full32_gorilla_lz\", \"name\": \"lat\", \"type\": \"Float32\", \"compressed\": 894, \"uncompressed\": 701184, \"ratio\": 0.0012749863088718511, \"codec\": \"CODEC(Gorilla, LZ4)\", \"precision\": \"full32\", \"codec_\": \"gorilla\"}, {\"table\": \"full32_dd_lz\", \"name\": \"lat\", \"type\": \"Float32\", \"compressed\": 894, \"uncompressed\": 701184, \"ratio\": 0.0012749863088718511, \"codec\": \"CODEC(DoubleDelta, LZ4)\", \"precision\": \"full32\", \"codec_\": \"dd\"}, {\"table\": \"round_dg_lz\", \"name\": \"lat\", \"type\": \"Float32\", \"compressed\": 1051, \"uncompressed\": 701184, \"ratio\": 0.0014988933004746255, \"codec\": \"CODEC(Delta(4), Gorilla, LZ4)\", \"precision\": \"round\", \"codec_\": \"dg\"}, {\"table\": \"fp16_d_lz\", \"name\": \"lat\", \"type\": \"Float32\", \"compressed\": 3506, \"uncompressed\": 701184, \"ratio\": 0.005000114092734574, \"codec\": \"CODEC(Delta(4), LZ4)\", \"precision\": \"fp16\", \"codec_\": \"d\"}, {\"table\": \"full32_dg_lz\", \"name\": \"lon\", \"type\": \"Float32\", \"compressed\": 1084, \"uncompressed\": 701184, \"ratio\": 0.001545956553486674, \"codec\": \"CODEC(Delta(4), Gorilla, LZ4)\", \"precision\": \"full32\", \"codec_\": \"dg\"}, {\"table\": \"round_dg_lz\", \"name\": \"lon\", \"type\": \"Float32\", \"compressed\": 1084, \"uncompressed\": 701184, \"ratio\": 0.001545956553486674, \"codec\": \"CODEC(Delta(4), Gorilla, LZ4)\", \"precision\": \"round\", \"codec_\": \"dg\"}, {\"table\": \"full32_dd_lz\", \"name\": \"lon\", \"type\": \"Float32\", \"compressed\": 938, \"uncompressed\": 701184, \"ratio\": 0.0013377373128879153, \"codec\": \"CODEC(DoubleDelta, LZ4)\", \"precision\": \"full32\", \"codec_\": \"dd\"}, {\"table\": \"round_dd_lz\", \"name\": \"lon\", \"type\": \"Float32\", \"compressed\": 938, \"uncompressed\": 701184, \"ratio\": 0.0013377373128879153, \"codec\": \"CODEC(DoubleDelta, LZ4)\", \"precision\": \"round\", \"codec_\": \"dd\"}, {\"table\": \"full32_d_lz\", \"name\": \"lon\", \"type\": \"Float32\", \"compressed\": 3520, \"uncompressed\": 701184, \"ratio\": 0.0050200803212851405, \"codec\": \"CODEC(Delta(4), LZ4)\", \"precision\": \"full32\", \"codec_\": \"d\"}, {\"table\": \"full32_gorilla_lz\", \"name\": \"lon\", \"type\": \"Float32\", \"compressed\": 926, \"uncompressed\": 701184, \"ratio\": 0.001320623402701716, \"codec\": \"CODEC(Gorilla, LZ4)\", \"precision\": \"full32\", \"codec_\": \"gorilla\"}, {\"table\": \"fp16_gorilla_lz\", \"name\": \"lon\", \"type\": \"Float32\", \"compressed\": 926, \"uncompressed\": 701184, \"ratio\": 0.001320623402701716, \"codec\": \"CODEC(Gorilla, LZ4)\", \"precision\": \"fp16\", \"codec_\": \"gorilla\"}, {\"table\": \"round_d_lz\", \"name\": \"lon\", \"type\": \"Float32\", \"compressed\": 3520, \"uncompressed\": 701184, \"ratio\": 0.0050200803212851405, \"codec\": \"CODEC(Delta(4), LZ4)\", \"precision\": \"round\", \"codec_\": \"d\"}, {\"table\": \"round_gorilla_lz\", \"name\": \"lon\", \"type\": \"Float32\", \"compressed\": 926, \"uncompressed\": 701184, \"ratio\": 0.001320623402701716, \"codec\": \"CODEC(Gorilla, LZ4)\", \"precision\": \"round\", \"codec_\": \"gorilla\"}, {\"table\": \"fp16_dg_lz\", \"name\": \"lon\", \"type\": \"Float32\", \"compressed\": 1084, \"uncompressed\": 701184, \"ratio\": 0.001545956553486674, \"codec\": \"CODEC(Delta(4), Gorilla, LZ4)\", \"precision\": \"fp16\", \"codec_\": \"dg\"}, {\"table\": \"fp16_dd_lz\", \"name\": \"lon\", \"type\": \"Float32\", \"compressed\": 938, \"uncompressed\": 701184, \"ratio\": 0.0013377373128879153, \"codec\": \"CODEC(DoubleDelta, LZ4)\", \"precision\": \"fp16\", \"codec_\": \"dd\"}, {\"table\": \"fp16_d_lz\", \"name\": \"lon\", \"type\": \"Float32\", \"compressed\": 3520, \"uncompressed\": 701184, \"ratio\": 0.0050200803212851405, \"codec\": \"CODEC(Delta(4), LZ4)\", \"precision\": \"fp16\", \"codec_\": \"d\"}, {\"table\": \"round_dg_lz\", \"name\": \"time\", \"type\": \"DateTime(\\\\'UTC\\\\')\", \"compressed\": 1102, \"uncompressed\": 701184, \"ratio\": 0.001571627418765973, \"codec\": \"CODEC(Delta(4), Gorilla, LZ4)\", \"precision\": \"round\", \"codec_\": \"dg\"}, {\"table\": \"full32_dd_lz\", \"name\": \"time\", \"type\": \"DateTime(\\\\'UTC\\\\')\", \"compressed\": 962, \"uncompressed\": 701184, \"ratio\": 0.001371965133260314, \"codec\": \"CODEC(DoubleDelta, LZ4)\", \"precision\": \"full32\", \"codec_\": \"dd\"}, {\"table\": \"full32_dg_lz\", \"name\": \"time\", \"type\": \"DateTime(\\\\'UTC\\\\')\", \"compressed\": 1102, \"uncompressed\": 701184, \"ratio\": 0.001571627418765973, \"codec\": \"CODEC(Delta(4), Gorilla, LZ4)\", \"precision\": \"full32\", \"codec_\": \"dg\"}, {\"table\": \"fp16_gorilla_lz\", \"name\": \"time\", \"type\": \"DateTime(\\\\'UTC\\\\')\", \"compressed\": 204820, \"uncompressed\": 701184, \"ratio\": 0.2921059236947791, \"codec\": \"CODEC(Gorilla, LZ4)\", \"precision\": \"fp16\", \"codec_\": \"gorilla\"}, {\"table\": \"full32_gorilla_lz\", \"name\": \"time\", \"type\": \"DateTime(\\\\'UTC\\\\')\", \"compressed\": 204820, \"uncompressed\": 701184, \"ratio\": 0.2921059236947791, \"codec\": \"CODEC(Gorilla, LZ4)\", \"precision\": \"full32\", \"codec_\": \"gorilla\"}, {\"table\": \"round_gorilla_lz\", \"name\": \"time\", \"type\": \"DateTime(\\\\'UTC\\\\')\", \"compressed\": 204820, \"uncompressed\": 701184, \"ratio\": 0.2921059236947791, \"codec\": \"CODEC(Gorilla, LZ4)\", \"precision\": \"round\", \"codec_\": \"gorilla\"}, {\"table\": \"fp16_dg_lz\", \"name\": \"time\", \"type\": \"DateTime(\\\\'UTC\\\\')\", \"compressed\": 1102, \"uncompressed\": 701184, \"ratio\": 0.001571627418765973, \"codec\": \"CODEC(Delta(4), Gorilla, LZ4)\", \"precision\": \"fp16\", \"codec_\": \"dg\"}, {\"table\": \"round_d_lz\", \"name\": \"time\", \"type\": \"DateTime(\\\\'UTC\\\\')\", \"compressed\": 3556, \"uncompressed\": 701184, \"ratio\": 0.005071422051843738, \"codec\": \"CODEC(Delta(4), LZ4)\", \"precision\": \"round\", \"codec_\": \"d\"}, {\"table\": \"fp16_dd_lz\", \"name\": \"time\", \"type\": \"DateTime(\\\\'UTC\\\\')\", \"compressed\": 962, \"uncompressed\": 701184, \"ratio\": 0.001371965133260314, \"codec\": \"CODEC(DoubleDelta, LZ4)\", \"precision\": \"fp16\", \"codec_\": \"dd\"}, {\"table\": \"round_dd_lz\", \"name\": \"time\", \"type\": \"DateTime(\\\\'UTC\\\\')\", \"compressed\": 962, \"uncompressed\": 701184, \"ratio\": 0.001371965133260314, \"codec\": \"CODEC(DoubleDelta, LZ4)\", \"precision\": \"round\", \"codec_\": \"dd\"}, {\"table\": \"fp16_d_lz\", \"name\": \"time\", \"type\": \"DateTime(\\\\'UTC\\\\')\", \"compressed\": 3556, \"uncompressed\": 701184, \"ratio\": 0.005071422051843738, \"codec\": \"CODEC(Delta(4), LZ4)\", \"precision\": \"fp16\", \"codec_\": \"d\"}, {\"table\": \"full32_d_lz\", \"name\": \"time\", \"type\": \"DateTime(\\\\'UTC\\\\')\", \"compressed\": 3556, \"uncompressed\": 701184, \"ratio\": 0.005071422051843738, \"codec\": \"CODEC(Delta(4), LZ4)\", \"precision\": \"full32\", \"codec_\": \"d\"}]}}, {\"mode\": \"vega-lite\"});\n",
       "</script>"
      ],
      "text/plain": [
       "alt.Chart(...)"
      ]
     },
     "execution_count": 73,
     "metadata": {},
     "output_type": "execute_result"
    }
   ],
   "source": [
    "alt.Chart(df).mark_tick(thickness=4, size=25).encode(\n",
    "    x='precision:N',\n",
    "    y=alt.Y('compressed:Q', scale=alt.Scale(type='log', base=2)),\n",
    "    #row='codec_:N',\n",
    "    color='codec:N',\n",
    "    column='name:N',\n",
    ").transform_filter(\n",
    "    alt.FieldOneOfPredicate(field='name', oneOf=['lat', 'lon', 'time'])\n",
    ").properties(\n",
    "    width=100,\n",
    "    height=500,\n",
    ")"
   ]
  },
  {
   "cell_type": "markdown",
   "metadata": {},
   "source": [
    "## Minimum Compressed size [MB]"
   ]
  },
  {
   "cell_type": "code",
   "execution_count": 74,
   "metadata": {},
   "outputs": [
    {
     "data": {
      "text/plain": [
       "2.4049949645996094"
      ]
     },
     "execution_count": 74,
     "metadata": {},
     "output_type": "execute_result"
    }
   ],
   "source": [
    "min_size = df.groupby(by='name')['compressed'].min().sum() / 2**20\n",
    "min_size"
   ]
  },
  {
   "cell_type": "code",
   "execution_count": 82,
   "metadata": {},
   "outputs": [
    {
     "data": {
      "text/plain": [
       "8.0244140625"
      ]
     },
     "execution_count": 82,
     "metadata": {},
     "output_type": "execute_result"
    }
   ],
   "source": [
    "uncompressed_size = df.groupby(by='name')['uncompressed'].first().sum() / 2**20\n",
    "uncompressed_size"
   ]
  },
  {
   "cell_type": "code",
   "execution_count": 79,
   "metadata": {},
   "outputs": [
    {
     "data": {
      "text/plain": [
       "0.2997097290677863"
      ]
     },
     "execution_count": 79,
     "metadata": {},
     "output_type": "execute_result"
    }
   ],
   "source": [
    "min_size / uncompressed_size"
   ]
  },
  {
   "cell_type": "markdown",
   "metadata": {},
   "source": [
    "## Gorilla only"
   ]
  },
  {
   "cell_type": "code",
   "execution_count": 92,
   "metadata": {},
   "outputs": [
    {
     "data": {
      "text/html": [
       "<div>\n",
       "<style scoped>\n",
       "    .dataframe tbody tr th:only-of-type {\n",
       "        vertical-align: middle;\n",
       "    }\n",
       "\n",
       "    .dataframe tbody tr th {\n",
       "        vertical-align: top;\n",
       "    }\n",
       "\n",
       "    .dataframe thead th {\n",
       "        text-align: right;\n",
       "    }\n",
       "</style>\n",
       "<table border=\"1\" class=\"dataframe\">\n",
       "  <thead>\n",
       "    <tr style=\"text-align: right;\">\n",
       "      <th></th>\n",
       "      <th>compressed</th>\n",
       "      <th>uncompressed</th>\n",
       "      <th>ratio</th>\n",
       "    </tr>\n",
       "    <tr>\n",
       "      <th>precision</th>\n",
       "      <th></th>\n",
       "      <th></th>\n",
       "      <th></th>\n",
       "    </tr>\n",
       "  </thead>\n",
       "  <tbody>\n",
       "    <tr>\n",
       "      <th>fp16</th>\n",
       "      <td>3367825</td>\n",
       "      <td>8414208</td>\n",
       "      <td>0.400255</td>\n",
       "    </tr>\n",
       "    <tr>\n",
       "      <th>full32</th>\n",
       "      <td>5312795</td>\n",
       "      <td>8414208</td>\n",
       "      <td>0.631408</td>\n",
       "    </tr>\n",
       "    <tr>\n",
       "      <th>round</th>\n",
       "      <td>2789912</td>\n",
       "      <td>8414208</td>\n",
       "      <td>0.331572</td>\n",
       "    </tr>\n",
       "  </tbody>\n",
       "</table>\n",
       "</div>"
      ],
      "text/plain": [
       "           compressed  uncompressed     ratio\n",
       "precision                                    \n",
       "fp16          3367825       8414208  0.400255\n",
       "full32        5312795       8414208  0.631408\n",
       "round         2789912       8414208  0.331572"
      ]
     },
     "execution_count": 92,
     "metadata": {},
     "output_type": "execute_result"
    }
   ],
   "source": [
    "g = df.loc[df['codec_'] == 'gorilla'].groupby(by=['precision'])[['compressed', 'uncompressed']].sum()\n",
    "g['ratio'] = g['compressed'] / g['uncompressed']\n",
    "g"
   ]
  },
  {
   "cell_type": "markdown",
   "metadata": {},
   "source": [
    "## Gorilla with DoubleDelta timestamps"
   ]
  },
  {
   "cell_type": "code",
   "execution_count": 90,
   "metadata": {},
   "outputs": [
    {
     "data": {
      "text/html": [
       "<div>\n",
       "<style scoped>\n",
       "    .dataframe tbody tr th:only-of-type {\n",
       "        vertical-align: middle;\n",
       "    }\n",
       "\n",
       "    .dataframe tbody tr th {\n",
       "        vertical-align: top;\n",
       "    }\n",
       "\n",
       "    .dataframe thead th {\n",
       "        text-align: right;\n",
       "    }\n",
       "</style>\n",
       "<table border=\"1\" class=\"dataframe\">\n",
       "  <thead>\n",
       "    <tr style=\"text-align: right;\">\n",
       "      <th></th>\n",
       "      <th>compressed</th>\n",
       "      <th>uncompressed</th>\n",
       "    </tr>\n",
       "    <tr>\n",
       "      <th>precision</th>\n",
       "      <th></th>\n",
       "      <th></th>\n",
       "    </tr>\n",
       "  </thead>\n",
       "  <tbody>\n",
       "    <tr>\n",
       "      <th>fp16</th>\n",
       "      <td>3163967</td>\n",
       "      <td>8414208</td>\n",
       "    </tr>\n",
       "    <tr>\n",
       "      <th>full32</th>\n",
       "      <td>5108937</td>\n",
       "      <td>8414208</td>\n",
       "    </tr>\n",
       "    <tr>\n",
       "      <th>round</th>\n",
       "      <td>2586054</td>\n",
       "      <td>8414208</td>\n",
       "    </tr>\n",
       "  </tbody>\n",
       "</table>\n",
       "</div>"
      ],
      "text/plain": [
       "           compressed  uncompressed\n",
       "precision                          \n",
       "fp16          3163967       8414208\n",
       "full32        5108937       8414208\n",
       "round         2586054       8414208"
      ]
     },
     "execution_count": 90,
     "metadata": {},
     "output_type": "execute_result"
    }
   ],
   "source": [
    "gdd = df.query('name != \"time\" & codec_ == \"gorilla\"').groupby(by='precision')[['compressed', 'uncompressed']].sum() + df.query('name == \"time\" & codec_ == \"dd\"').groupby(by='precision')[['compressed', 'uncompressed']].sum()\n",
    "gdd"
   ]
  },
  {
   "cell_type": "code",
   "execution_count": 88,
   "metadata": {},
   "outputs": [
    {
     "data": {
      "text/html": [
       "<div>\n",
       "<style scoped>\n",
       "    .dataframe tbody tr th:only-of-type {\n",
       "        vertical-align: middle;\n",
       "    }\n",
       "\n",
       "    .dataframe tbody tr th {\n",
       "        vertical-align: top;\n",
       "    }\n",
       "\n",
       "    .dataframe thead th {\n",
       "        text-align: right;\n",
       "    }\n",
       "</style>\n",
       "<table border=\"1\" class=\"dataframe\">\n",
       "  <thead>\n",
       "    <tr style=\"text-align: right;\">\n",
       "      <th></th>\n",
       "      <th>compressed</th>\n",
       "      <th>uncompressed</th>\n",
       "    </tr>\n",
       "    <tr>\n",
       "      <th>precision</th>\n",
       "      <th></th>\n",
       "      <th></th>\n",
       "    </tr>\n",
       "  </thead>\n",
       "  <tbody>\n",
       "    <tr>\n",
       "      <th>fp16</th>\n",
       "      <td>962</td>\n",
       "      <td>701184</td>\n",
       "    </tr>\n",
       "    <tr>\n",
       "      <th>full32</th>\n",
       "      <td>962</td>\n",
       "      <td>701184</td>\n",
       "    </tr>\n",
       "    <tr>\n",
       "      <th>round</th>\n",
       "      <td>962</td>\n",
       "      <td>701184</td>\n",
       "    </tr>\n",
       "  </tbody>\n",
       "</table>\n",
       "</div>"
      ],
      "text/plain": [
       "           compressed  uncompressed\n",
       "precision                          \n",
       "fp16              962        701184\n",
       "full32            962        701184\n",
       "round             962        701184"
      ]
     },
     "execution_count": 88,
     "metadata": {},
     "output_type": "execute_result"
    }
   ],
   "source": [
    "df.query('name == \"time\" & codec_ == \"dd\"').groupby(by='precision')[['compressed', 'uncompressed']].sum()"
   ]
  },
  {
   "cell_type": "code",
   "execution_count": 91,
   "metadata": {},
   "outputs": [
    {
     "data": {
      "text/html": [
       "<div>\n",
       "<style scoped>\n",
       "    .dataframe tbody tr th:only-of-type {\n",
       "        vertical-align: middle;\n",
       "    }\n",
       "\n",
       "    .dataframe tbody tr th {\n",
       "        vertical-align: top;\n",
       "    }\n",
       "\n",
       "    .dataframe thead th {\n",
       "        text-align: right;\n",
       "    }\n",
       "</style>\n",
       "<table border=\"1\" class=\"dataframe\">\n",
       "  <thead>\n",
       "    <tr style=\"text-align: right;\">\n",
       "      <th></th>\n",
       "      <th>compressed</th>\n",
       "      <th>uncompressed</th>\n",
       "      <th>ratio</th>\n",
       "    </tr>\n",
       "    <tr>\n",
       "      <th>precision</th>\n",
       "      <th></th>\n",
       "      <th></th>\n",
       "      <th></th>\n",
       "    </tr>\n",
       "  </thead>\n",
       "  <tbody>\n",
       "    <tr>\n",
       "      <th>fp16</th>\n",
       "      <td>3163967</td>\n",
       "      <td>8414208</td>\n",
       "      <td>0.376027</td>\n",
       "    </tr>\n",
       "    <tr>\n",
       "      <th>full32</th>\n",
       "      <td>5108937</td>\n",
       "      <td>8414208</td>\n",
       "      <td>0.607180</td>\n",
       "    </tr>\n",
       "    <tr>\n",
       "      <th>round</th>\n",
       "      <td>2586054</td>\n",
       "      <td>8414208</td>\n",
       "      <td>0.307344</td>\n",
       "    </tr>\n",
       "  </tbody>\n",
       "</table>\n",
       "</div>"
      ],
      "text/plain": [
       "           compressed  uncompressed     ratio\n",
       "precision                                    \n",
       "fp16          3163967       8414208  0.376027\n",
       "full32        5108937       8414208  0.607180\n",
       "round         2586054       8414208  0.307344"
      ]
     },
     "execution_count": 91,
     "metadata": {},
     "output_type": "execute_result"
    }
   ],
   "source": [
    "gdd['ratio'] = gdd['compressed'] / gdd['uncompressed']\n",
    "gdd"
   ]
  },
  {
   "cell_type": "markdown",
   "metadata": {},
   "source": [
    "## Snappy Parquet for comparison"
   ]
  },
  {
   "cell_type": "code",
   "execution_count": 93,
   "metadata": {},
   "outputs": [
    {
     "data": {
      "text/plain": [
       "True"
      ]
     },
     "execution_count": 93,
     "metadata": {},
     "output_type": "execute_result"
    }
   ],
   "source": [
    "root = Path('/mnt/c/data/merra_texas/')\n",
    "root.exists()"
   ]
  },
  {
   "cell_type": "code",
   "execution_count": 94,
   "metadata": {},
   "outputs": [],
   "source": [
    "parq = dict(fp16=None, round=None, full32=None)"
   ]
  },
  {
   "cell_type": "code",
   "execution_count": 101,
   "metadata": {},
   "outputs": [],
   "source": [
    "for key in parq.keys():\n",
    "    fsize = 0\n",
    "    for file in (root / key).glob('*.parquet'):\n",
    "        fsize += file.stat().st_size\n",
    "    parq[key] = fsize"
   ]
  },
  {
   "cell_type": "code",
   "execution_count": 105,
   "metadata": {},
   "outputs": [
    {
     "data": {
      "text/html": [
       "<div>\n",
       "<style scoped>\n",
       "    .dataframe tbody tr th:only-of-type {\n",
       "        vertical-align: middle;\n",
       "    }\n",
       "\n",
       "    .dataframe tbody tr th {\n",
       "        vertical-align: top;\n",
       "    }\n",
       "\n",
       "    .dataframe thead th {\n",
       "        text-align: right;\n",
       "    }\n",
       "</style>\n",
       "<table border=\"1\" class=\"dataframe\">\n",
       "  <thead>\n",
       "    <tr style=\"text-align: right;\">\n",
       "      <th></th>\n",
       "      <th>0</th>\n",
       "      <th>ratio</th>\n",
       "    </tr>\n",
       "  </thead>\n",
       "  <tbody>\n",
       "    <tr>\n",
       "      <th>fp16</th>\n",
       "      <td>3873867</td>\n",
       "      <td>0.460396</td>\n",
       "    </tr>\n",
       "    <tr>\n",
       "      <th>round</th>\n",
       "      <td>3123527</td>\n",
       "      <td>0.371221</td>\n",
       "    </tr>\n",
       "    <tr>\n",
       "      <th>full32</th>\n",
       "      <td>9616634</td>\n",
       "      <td>1.142904</td>\n",
       "    </tr>\n",
       "  </tbody>\n",
       "</table>\n",
       "</div>"
      ],
      "text/plain": [
       "              0     ratio\n",
       "fp16    3873867  0.460396\n",
       "round   3123527  0.371221\n",
       "full32  9616634  1.142904"
      ]
     },
     "execution_count": 105,
     "metadata": {},
     "output_type": "execute_result"
    }
   ],
   "source": [
    "pq = pd.DataFrame(parq, index=[0]).T\n",
    "pq['ratio'] = pq[0] / g.loc['fp16', 'uncompressed']\n",
    "pq"
   ]
  },
  {
   "cell_type": "code",
   "execution_count": null,
   "metadata": {},
   "outputs": [],
   "source": []
  }
 ],
 "metadata": {
  "kernelspec": {
   "display_name": "Python 3",
   "language": "python",
   "name": "python3"
  },
  "language_info": {
   "codemirror_mode": {
    "name": "ipython",
    "version": 3
   },
   "file_extension": ".py",
   "mimetype": "text/x-python",
   "name": "python",
   "nbconvert_exporter": "python",
   "pygments_lexer": "ipython3",
   "version": "3.8.2"
  }
 },
 "nbformat": 4,
 "nbformat_minor": 4
}
